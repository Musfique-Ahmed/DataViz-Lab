{
  "cells": [
    {
      "cell_type": "markdown",
      "metadata": {
        "id": "CP-9HZbVb4tR"
      },
      "source": [
        "# Task: ICPC Dhaka Regional 2024 Data Analysis"
      ]
    },
    {
      "cell_type": "markdown",
      "metadata": {
        "id": "hQ5f8Ge3b_-D"
      },
      "source": [
        "The International Collegiate Programming Contest (ICPC) is the oldest, largest, and most prestigious programming competition in the world, often hailed as the \"World Cup of Programming.\" It is a team-based competition where university students work in teams of three to solve a set of complex algorithmic problems within a five-hour time limit. The contest fosters creativity, teamwork, and innovation in building new software programs and enables students to test their ability to perform under pressure."
      ]
    },
    {
      "cell_type": "markdown",
      "metadata": {
        "id": "sj3AI4EscGud"
      },
      "source": [
        "## Contest Rules"
      ]
    },
    {
      "cell_type": "markdown",
      "metadata": {
        "id": "ELjBaJu9cIxl"
      },
      "source": [
        "In programming contests like the ICPC, the ranking of teams is determined by two main factors. The primary factor is the **total number of problems solved**; the team that solves the most problems ranks higher. If two or more teams solve the same number of problems, a tie is broken by the **total penalty time**. The team with the lower total penalty time is ranked higher. The penalty for a single solved problem is calculated as the time taken to solve it (in minutes from the start of the contest) plus a 20-minute penalty for each incorrect submission for that problem. For example, if a team solves a problem on their 3rd attempt at the 200-minute mark, the penalty for that problem will be 200 + (2 × 20) = 240. Importantly, *teams do not incur any penalty for problems they did not solve, regardless of how many incorrect attempts they made.*"
      ]
    },
    {
      "cell_type": "markdown",
      "metadata": {
        "id": "9h_obhrzfr5L"
      },
      "source": [
        "## The Dataset"
      ]
    },
    {
      "cell_type": "markdown",
      "metadata": {
        "id": "el199UIMf4Tk"
      },
      "source": [
        "You are provided with a CSV file named *icpc_dhaka_2024.csv* containing the performance data of all the teams. The sheet has the following columns:\n",
        "\n",
        "- **name**: The unique name of the team.\n",
        "- **institution**: The university the team belongs to.\n",
        "- **attemptsForX**: A column for each problem (e.g., attemptsForA, attemptsForB) that shows the total number of attempts a team made on that problem.\n",
        "- **timeForX**: A column for each problem (e.g., timeForA, timeForB) that shows the time in minutes at which the team got their first correct submission. If this cell is empty, it means the team did not solve that problem."
      ]
    },
    {
      "cell_type": "markdown",
      "metadata": {
        "id": "dTZgImK7gSMo"
      },
      "source": [
        "## Your Tasks"
      ]
    },
    {
      "cell_type": "markdown",
      "metadata": {
        "id": "2Iy9qegIgV-P"
      },
      "source": [
        "Your goal is to analyze this dataset to find interesting patterns and insights. You are required to complete the following tasks:\n",
        "\n",
        "1. **Rank the Top Teams**\n",
        "Calculate each team's total problems solved and their total penalty time based on the rules described above. Then, generate a final ranked list showing the top 10 teams along with their rank, name, institution, problems solved, and total penalty.\n",
        "\n",
        "2. **Identify the Fastest Solvers**\n",
        "For each problem that was solved by at least one team, find the name of the team that submitted the first correct solution (i.e., had the minimum solve time). Present your findings as a list, showing each problem, the fastest team's name, and their solve time.\n",
        "\n",
        "3. **Open-Ended Data Visualization & Exploratory Analysis**\n",
        "This is your chance to explore the data creatively! Use some of your known visualization tools to analyze the data and present your findings. You have the freedom to investigate any aspect of the data you find interesting.\n",
        "For this task, remember to *follow good data visualization principles* and *write a clear explanation* of your findings for each visualization you create. Some ideas to get you started can be:\n",
        "\n",
        "  - **Problem Difficulty**: Analyze the solve times and solve counts for each problem to determine which problems were the easiest and which were the hardest.\n",
        "\n",
        "  - **Top Team Dashboard**: Create a dashboard-style visualization that summarizes the performance of the top 5 or 10 teams. This could include their solved counts, penalty breakdown, and which problems they solved.\n",
        "\n",
        "  - **Institutional Performance**: Analyze and compare the performance of the top institutions in the contest like BUET, SUST, DU, BRACU, IUT, RUET, KUET, CoU."
      ]
    },
    {
      "cell_type": "markdown",
      "metadata": {
        "id": "kLY4h2dPicmF"
      },
      "source": [
        "# Your Solution"
      ]
    },
    {
      "cell_type": "code",
      "execution_count": 1,
      "metadata": {
        "id": "U3eCnez0ie0s"
      },
      "outputs": [],
      "source": [
        "# START YOUR CODE HERE"
      ]
    },
    {
      "cell_type": "markdown",
      "metadata": {},
      "source": [
        "### **Task-1**"
      ]
    },
    {
      "cell_type": "code",
      "execution_count": 2,
      "metadata": {
        "colab": {
          "base_uri": "https://localhost:8080/",
          "height": 481
        },
        "id": "4457e286",
        "outputId": "10b82d0d-a655-42a8-ffb3-90b028a9d507"
      },
      "outputs": [
        {
          "data": {
            "text/html": [
              "<div>\n",
              "<style scoped>\n",
              "    .dataframe tbody tr th:only-of-type {\n",
              "        vertical-align: middle;\n",
              "    }\n",
              "\n",
              "    .dataframe tbody tr th {\n",
              "        vertical-align: top;\n",
              "    }\n",
              "\n",
              "    .dataframe thead th {\n",
              "        text-align: right;\n",
              "    }\n",
              "</style>\n",
              "<table border=\"1\" class=\"dataframe\">\n",
              "  <thead>\n",
              "    <tr style=\"text-align: right;\">\n",
              "      <th></th>\n",
              "      <th>name</th>\n",
              "      <th>institution</th>\n",
              "      <th>attemptsForA</th>\n",
              "      <th>timeForA</th>\n",
              "      <th>attemptsForB</th>\n",
              "      <th>timeForB</th>\n",
              "      <th>attemptsForC</th>\n",
              "      <th>timeForC</th>\n",
              "      <th>attemptsForD</th>\n",
              "      <th>timeForD</th>\n",
              "      <th>...</th>\n",
              "      <th>attemptsForH</th>\n",
              "      <th>timeForH</th>\n",
              "      <th>attemptsForI</th>\n",
              "      <th>timeForI</th>\n",
              "      <th>attemptsForJ</th>\n",
              "      <th>timeForJ</th>\n",
              "      <th>attemptsForK</th>\n",
              "      <th>timeForK</th>\n",
              "      <th>attemptsForL</th>\n",
              "      <th>timeForL</th>\n",
              "    </tr>\n",
              "  </thead>\n",
              "  <tbody>\n",
              "    <tr>\n",
              "      <th>0</th>\n",
              "      <td>00_Cyborgs_KYAU</td>\n",
              "      <td>KHWAJA YUNUS ALI UNIVERSITY</td>\n",
              "      <td>0</td>\n",
              "      <td>NaN</td>\n",
              "      <td>0</td>\n",
              "      <td>NaN</td>\n",
              "      <td>0</td>\n",
              "      <td>NaN</td>\n",
              "      <td>0</td>\n",
              "      <td>NaN</td>\n",
              "      <td>...</td>\n",
              "      <td>0</td>\n",
              "      <td>NaN</td>\n",
              "      <td>0</td>\n",
              "      <td>NaN</td>\n",
              "      <td>0</td>\n",
              "      <td>NaN</td>\n",
              "      <td>0</td>\n",
              "      <td>NaN</td>\n",
              "      <td>0</td>\n",
              "      <td>NaN</td>\n",
              "    </tr>\n",
              "    <tr>\n",
              "      <th>1</th>\n",
              "      <td>0xC00000FD</td>\n",
              "      <td>BANGLADESH OPEN UNIVERSITY</td>\n",
              "      <td>0</td>\n",
              "      <td>NaN</td>\n",
              "      <td>0</td>\n",
              "      <td>NaN</td>\n",
              "      <td>0</td>\n",
              "      <td>NaN</td>\n",
              "      <td>0</td>\n",
              "      <td>NaN</td>\n",
              "      <td>...</td>\n",
              "      <td>0</td>\n",
              "      <td>NaN</td>\n",
              "      <td>2</td>\n",
              "      <td>112.0</td>\n",
              "      <td>2</td>\n",
              "      <td>NaN</td>\n",
              "      <td>0</td>\n",
              "      <td>NaN</td>\n",
              "      <td>0</td>\n",
              "      <td>NaN</td>\n",
              "    </tr>\n",
              "    <tr>\n",
              "      <th>2</th>\n",
              "      <td>998244353</td>\n",
              "      <td>RAJSHAHI UNIVERSITY OF ENGINEERING &amp; TECHNOLOGY</td>\n",
              "      <td>0</td>\n",
              "      <td>NaN</td>\n",
              "      <td>4</td>\n",
              "      <td>293.0</td>\n",
              "      <td>2</td>\n",
              "      <td>146.0</td>\n",
              "      <td>3</td>\n",
              "      <td>276.0</td>\n",
              "      <td>...</td>\n",
              "      <td>0</td>\n",
              "      <td>NaN</td>\n",
              "      <td>1</td>\n",
              "      <td>7.0</td>\n",
              "      <td>1</td>\n",
              "      <td>103.0</td>\n",
              "      <td>0</td>\n",
              "      <td>NaN</td>\n",
              "      <td>0</td>\n",
              "      <td>NaN</td>\n",
              "    </tr>\n",
              "    <tr>\n",
              "      <th>3</th>\n",
              "      <td>ADUST_ByteBusters</td>\n",
              "      <td>ATISH DIPANKAR UNIVERSITY OF SCIENCE AND TECHN...</td>\n",
              "      <td>0</td>\n",
              "      <td>NaN</td>\n",
              "      <td>0</td>\n",
              "      <td>NaN</td>\n",
              "      <td>0</td>\n",
              "      <td>NaN</td>\n",
              "      <td>0</td>\n",
              "      <td>NaN</td>\n",
              "      <td>...</td>\n",
              "      <td>0</td>\n",
              "      <td>NaN</td>\n",
              "      <td>1</td>\n",
              "      <td>NaN</td>\n",
              "      <td>0</td>\n",
              "      <td>NaN</td>\n",
              "      <td>0</td>\n",
              "      <td>NaN</td>\n",
              "      <td>0</td>\n",
              "      <td>NaN</td>\n",
              "    </tr>\n",
              "    <tr>\n",
              "      <th>4</th>\n",
              "      <td>AIUB_Conquered</td>\n",
              "      <td>AMERICAN INTERNATIONAL UNIVERSITY - BANGLADESH</td>\n",
              "      <td>0</td>\n",
              "      <td>NaN</td>\n",
              "      <td>0</td>\n",
              "      <td>NaN</td>\n",
              "      <td>0</td>\n",
              "      <td>NaN</td>\n",
              "      <td>6</td>\n",
              "      <td>NaN</td>\n",
              "      <td>...</td>\n",
              "      <td>0</td>\n",
              "      <td>NaN</td>\n",
              "      <td>1</td>\n",
              "      <td>20.0</td>\n",
              "      <td>0</td>\n",
              "      <td>NaN</td>\n",
              "      <td>0</td>\n",
              "      <td>NaN</td>\n",
              "      <td>0</td>\n",
              "      <td>NaN</td>\n",
              "    </tr>\n",
              "  </tbody>\n",
              "</table>\n",
              "<p>5 rows × 26 columns</p>\n",
              "</div>"
            ],
            "text/plain": [
              "                name                                        institution  \\\n",
              "0    00_Cyborgs_KYAU                        KHWAJA YUNUS ALI UNIVERSITY   \n",
              "1         0xC00000FD                         BANGLADESH OPEN UNIVERSITY   \n",
              "2          998244353    RAJSHAHI UNIVERSITY OF ENGINEERING & TECHNOLOGY   \n",
              "3  ADUST_ByteBusters  ATISH DIPANKAR UNIVERSITY OF SCIENCE AND TECHN...   \n",
              "4     AIUB_Conquered     AMERICAN INTERNATIONAL UNIVERSITY - BANGLADESH   \n",
              "\n",
              "   attemptsForA  timeForA  attemptsForB  timeForB  attemptsForC  timeForC  \\\n",
              "0             0       NaN             0       NaN             0       NaN   \n",
              "1             0       NaN             0       NaN             0       NaN   \n",
              "2             0       NaN             4     293.0             2     146.0   \n",
              "3             0       NaN             0       NaN             0       NaN   \n",
              "4             0       NaN             0       NaN             0       NaN   \n",
              "\n",
              "   attemptsForD  timeForD  ...  attemptsForH  timeForH  attemptsForI  \\\n",
              "0             0       NaN  ...             0       NaN             0   \n",
              "1             0       NaN  ...             0       NaN             2   \n",
              "2             3     276.0  ...             0       NaN             1   \n",
              "3             0       NaN  ...             0       NaN             1   \n",
              "4             6       NaN  ...             0       NaN             1   \n",
              "\n",
              "   timeForI  attemptsForJ  timeForJ  attemptsForK  timeForK  attemptsForL  \\\n",
              "0       NaN             0       NaN             0       NaN             0   \n",
              "1     112.0             2       NaN             0       NaN             0   \n",
              "2       7.0             1     103.0             0       NaN             0   \n",
              "3       NaN             0       NaN             0       NaN             0   \n",
              "4      20.0             0       NaN             0       NaN             0   \n",
              "\n",
              "   timeForL  \n",
              "0       NaN  \n",
              "1       NaN  \n",
              "2       NaN  \n",
              "3       NaN  \n",
              "4       NaN  \n",
              "\n",
              "[5 rows x 26 columns]"
            ]
          },
          "metadata": {},
          "output_type": "display_data"
        }
      ],
      "source": [
        "import pandas as pd\n",
        "\n",
        "df = pd.read_csv('icpc_dhaka_2024.csv')\n",
        "display(df.head())"
      ]
    },
    {
      "cell_type": "code",
      "execution_count": 3,
      "metadata": {
        "colab": {
          "base_uri": "https://localhost:8080/"
        },
        "id": "7UeU_F0LGXED",
        "outputId": "6754b2f4-3b4d-4826-f7cc-c2bb94a7826f"
      },
      "outputs": [
        {
          "data": {
            "text/plain": [
              "['A', 'B', 'C', 'D', 'E', 'F', 'G', 'H', 'I', 'J', 'K', 'L']"
            ]
          },
          "execution_count": 3,
          "metadata": {},
          "output_type": "execute_result"
        }
      ],
      "source": [
        "problem_columns = sorted(list(set([col[11:] for col in df.columns if col.startswith('attemptsFor')])))\n",
        "problem_columns"
      ]
    },
    {
      "cell_type": "code",
      "execution_count": null,
      "metadata": {
        "colab": {
          "base_uri": "https://localhost:8080/",
          "height": 206
        },
        "id": "4437fcf4",
        "outputId": "27510412-1519-443f-9c51-3d17444386f4"
      },
      "outputs": [
        {
          "data": {
            "text/html": [
              "<div>\n",
              "<style scoped>\n",
              "    .dataframe tbody tr th:only-of-type {\n",
              "        vertical-align: middle;\n",
              "    }\n",
              "\n",
              "    .dataframe tbody tr th {\n",
              "        vertical-align: top;\n",
              "    }\n",
              "\n",
              "    .dataframe thead th {\n",
              "        text-align: right;\n",
              "    }\n",
              "</style>\n",
              "<table border=\"1\" class=\"dataframe\">\n",
              "  <thead>\n",
              "    <tr style=\"text-align: right;\">\n",
              "      <th></th>\n",
              "      <th>name</th>\n",
              "      <th>institution</th>\n",
              "      <th>problems_solved</th>\n",
              "      <th>total_penalty</th>\n",
              "    </tr>\n",
              "  </thead>\n",
              "  <tbody>\n",
              "    <tr>\n",
              "      <th>0</th>\n",
              "      <td>00_Cyborgs_KYAU</td>\n",
              "      <td>KHWAJA YUNUS ALI UNIVERSITY</td>\n",
              "      <td>0.0</td>\n",
              "      <td>0.0</td>\n",
              "    </tr>\n",
              "    <tr>\n",
              "      <th>1</th>\n",
              "      <td>0xC00000FD</td>\n",
              "      <td>BANGLADESH OPEN UNIVERSITY</td>\n",
              "      <td>2.0</td>\n",
              "      <td>394.0</td>\n",
              "    </tr>\n",
              "    <tr>\n",
              "      <th>2</th>\n",
              "      <td>998244353</td>\n",
              "      <td>RAJSHAHI UNIVERSITY OF ENGINEERING &amp; TECHNOLOGY</td>\n",
              "      <td>6.0</td>\n",
              "      <td>1011.0</td>\n",
              "    </tr>\n",
              "    <tr>\n",
              "      <th>3</th>\n",
              "      <td>ADUST_ByteBusters</td>\n",
              "      <td>ATISH DIPANKAR UNIVERSITY OF SCIENCE AND TECHN...</td>\n",
              "      <td>0.0</td>\n",
              "      <td>0.0</td>\n",
              "    </tr>\n",
              "    <tr>\n",
              "      <th>4</th>\n",
              "      <td>AIUB_Conquered</td>\n",
              "      <td>AMERICAN INTERNATIONAL UNIVERSITY - BANGLADESH</td>\n",
              "      <td>2.0</td>\n",
              "      <td>91.0</td>\n",
              "    </tr>\n",
              "  </tbody>\n",
              "</table>\n",
              "</div>"
            ],
            "text/plain": [
              "                name                                        institution  \\\n",
              "0    00_Cyborgs_KYAU                        KHWAJA YUNUS ALI UNIVERSITY   \n",
              "1         0xC00000FD                         BANGLADESH OPEN UNIVERSITY   \n",
              "2          998244353    RAJSHAHI UNIVERSITY OF ENGINEERING & TECHNOLOGY   \n",
              "3  ADUST_ByteBusters  ATISH DIPANKAR UNIVERSITY OF SCIENCE AND TECHN...   \n",
              "4     AIUB_Conquered     AMERICAN INTERNATIONAL UNIVERSITY - BANGLADESH   \n",
              "\n",
              "   problems_solved  total_penalty  \n",
              "0              0.0            0.0  \n",
              "1              2.0          394.0  \n",
              "2              6.0         1011.0  \n",
              "3              0.0            0.0  \n",
              "4              2.0           91.0  "
            ]
          },
          "metadata": {},
          "output_type": "display_data"
        }
      ],
      "source": [
        "def calculate_team_stats(row):\n",
        "    solved_problems = 0\n",
        "    total_penalty = 0\n",
        "    \n",
        "    problem_columns = sorted(list(set([col[11:] for col in df.columns if col.startswith('attemptsFor')])))\n",
        "\n",
        "    for problem in problem_columns:\n",
        "        attempts_col = f'attemptsFor{problem}'\n",
        "        time_col = f'timeFor{problem}'\n",
        "\n",
        "        if pd.notna(row[time_col]):\n",
        "            solved_problems += 1\n",
        "            attempts = row[attempts_col]\n",
        "            solve_time = row[time_col]\n",
        "            penalty = solve_time + (attempts - 1) * 20\n",
        "            total_penalty += penalty\n",
        "    return solved_problems, total_penalty\n",
        "\n",
        "df[['problems_solved', 'total_penalty']] = df.apply(calculate_team_stats, axis=1, result_type='expand')\n",
        "\n",
        "display(df[['name', 'institution', 'problems_solved', 'total_penalty']].head())"
      ]
    },
    {
      "cell_type": "code",
      "execution_count": 5,
      "metadata": {
        "colab": {
          "base_uri": "https://localhost:8080/",
          "height": 363
        },
        "id": "ca6eaf75",
        "outputId": "79736370-eae0-4dac-a75b-ec46730ee018"
      },
      "outputs": [
        {
          "data": {
            "text/html": [
              "<div>\n",
              "<style scoped>\n",
              "    .dataframe tbody tr th:only-of-type {\n",
              "        vertical-align: middle;\n",
              "    }\n",
              "\n",
              "    .dataframe tbody tr th {\n",
              "        vertical-align: top;\n",
              "    }\n",
              "\n",
              "    .dataframe thead th {\n",
              "        text-align: right;\n",
              "    }\n",
              "</style>\n",
              "<table border=\"1\" class=\"dataframe\">\n",
              "  <thead>\n",
              "    <tr style=\"text-align: right;\">\n",
              "      <th></th>\n",
              "      <th>rank</th>\n",
              "      <th>name</th>\n",
              "      <th>institution</th>\n",
              "      <th>problems_solved</th>\n",
              "      <th>total_penalty</th>\n",
              "    </tr>\n",
              "  </thead>\n",
              "  <tbody>\n",
              "    <tr>\n",
              "      <th>263</th>\n",
              "      <td>1</td>\n",
              "      <td>SUST_Fanatics</td>\n",
              "      <td>SHAHJALAL UNIVERSITY OF SCIENCE AND TECHNOLOGY</td>\n",
              "      <td>7.0</td>\n",
              "      <td>948.0</td>\n",
              "    </tr>\n",
              "    <tr>\n",
              "      <th>115</th>\n",
              "      <td>2</td>\n",
              "      <td>DU_Singularity</td>\n",
              "      <td>UNIVERSITY OF DHAKA</td>\n",
              "      <td>7.0</td>\n",
              "      <td>1198.0</td>\n",
              "    </tr>\n",
              "    <tr>\n",
              "      <th>112</th>\n",
              "      <td>3</td>\n",
              "      <td>DU_Primordius</td>\n",
              "      <td>UNIVERSITY OF DHAKA</td>\n",
              "      <td>6.0</td>\n",
              "      <td>674.0</td>\n",
              "    </tr>\n",
              "    <tr>\n",
              "      <th>81</th>\n",
              "      <td>4</td>\n",
              "      <td>CoU_LastRunForMemories</td>\n",
              "      <td>COMILLA UNIVERSITY</td>\n",
              "      <td>6.0</td>\n",
              "      <td>677.0</td>\n",
              "    </tr>\n",
              "    <tr>\n",
              "      <th>164</th>\n",
              "      <td>5</td>\n",
              "      <td>IUT_CocolaChampionBiscuit</td>\n",
              "      <td>ISLAMIC UNIVERSITY OF TECHNOLOGY</td>\n",
              "      <td>6.0</td>\n",
              "      <td>824.0</td>\n",
              "    </tr>\n",
              "    <tr>\n",
              "      <th>29</th>\n",
              "      <td>6</td>\n",
              "      <td>BRACU_Crows</td>\n",
              "      <td>BRAC UNIVERSITY</td>\n",
              "      <td>6.0</td>\n",
              "      <td>841.0</td>\n",
              "    </tr>\n",
              "    <tr>\n",
              "      <th>132</th>\n",
              "      <td>7</td>\n",
              "      <td>FaimDeSang</td>\n",
              "      <td>SHAHJALAL UNIVERSITY OF SCIENCE AND TECHNOLOGY</td>\n",
              "      <td>6.0</td>\n",
              "      <td>858.0</td>\n",
              "    </tr>\n",
              "    <tr>\n",
              "      <th>2</th>\n",
              "      <td>8</td>\n",
              "      <td>998244353</td>\n",
              "      <td>RAJSHAHI UNIVERSITY OF ENGINEERING &amp; TECHNOLOGY</td>\n",
              "      <td>6.0</td>\n",
              "      <td>1011.0</td>\n",
              "    </tr>\n",
              "    <tr>\n",
              "      <th>49</th>\n",
              "      <td>9</td>\n",
              "      <td>BUET_Quasar</td>\n",
              "      <td>BANGLADESH UNIVERSITY OF ENGINEERING AND TECHN...</td>\n",
              "      <td>5.0</td>\n",
              "      <td>507.0</td>\n",
              "    </tr>\n",
              "    <tr>\n",
              "      <th>151</th>\n",
              "      <td>10</td>\n",
              "      <td>IOI1</td>\n",
              "      <td>INTERNATIONAL OLYMPIAD IN INFORMATICS</td>\n",
              "      <td>5.0</td>\n",
              "      <td>582.0</td>\n",
              "    </tr>\n",
              "  </tbody>\n",
              "</table>\n",
              "</div>"
            ],
            "text/plain": [
              "     rank                       name  \\\n",
              "263     1              SUST_Fanatics   \n",
              "115     2             DU_Singularity   \n",
              "112     3              DU_Primordius   \n",
              "81      4     CoU_LastRunForMemories   \n",
              "164     5  IUT_CocolaChampionBiscuit   \n",
              "29      6                BRACU_Crows   \n",
              "132     7                 FaimDeSang   \n",
              "2       8                  998244353   \n",
              "49      9                BUET_Quasar   \n",
              "151    10                       IOI1   \n",
              "\n",
              "                                           institution  problems_solved  \\\n",
              "263     SHAHJALAL UNIVERSITY OF SCIENCE AND TECHNOLOGY              7.0   \n",
              "115                                UNIVERSITY OF DHAKA              7.0   \n",
              "112                                UNIVERSITY OF DHAKA              6.0   \n",
              "81                                  COMILLA UNIVERSITY              6.0   \n",
              "164                   ISLAMIC UNIVERSITY OF TECHNOLOGY              6.0   \n",
              "29                                     BRAC UNIVERSITY              6.0   \n",
              "132     SHAHJALAL UNIVERSITY OF SCIENCE AND TECHNOLOGY              6.0   \n",
              "2      RAJSHAHI UNIVERSITY OF ENGINEERING & TECHNOLOGY              6.0   \n",
              "49   BANGLADESH UNIVERSITY OF ENGINEERING AND TECHN...              5.0   \n",
              "151              INTERNATIONAL OLYMPIAD IN INFORMATICS              5.0   \n",
              "\n",
              "     total_penalty  \n",
              "263          948.0  \n",
              "115         1198.0  \n",
              "112          674.0  \n",
              "81           677.0  \n",
              "164          824.0  \n",
              "29           841.0  \n",
              "132          858.0  \n",
              "2           1011.0  \n",
              "49           507.0  \n",
              "151          582.0  "
            ]
          },
          "metadata": {},
          "output_type": "display_data"
        }
      ],
      "source": [
        "ranked_teams = df.sort_values(by=['problems_solved', 'total_penalty'], ascending=[False, True])\n",
        "ranked_teams['rank'] = range(1, len(ranked_teams) + 1)\n",
        "\n",
        "display(ranked_teams[['rank', 'name', 'institution', 'problems_solved', 'total_penalty']].head(10))"
      ]
    },
    {
      "cell_type": "markdown",
      "metadata": {},
      "source": [
        "### **Task-2**"
      ]
    },
    {
      "cell_type": "code",
      "execution_count": 14,
      "metadata": {
        "colab": {
          "base_uri": "https://localhost:8080/"
        },
        "id": "6c8c5628",
        "outputId": "3b2a289f-350f-49c8-ed39-2f42c1bba403"
      },
      "outputs": [
        {
          "name": "stdout",
          "output_type": "stream",
          "text": [
            "Problem B: Fastest team is MBSTU_Novatos with solve time 139.0 minutes\n",
            "Problem C: Fastest team is IUT_CocolaChampionBiscuit with solve time 112.0 minutes\n",
            "Problem D: Fastest team is FaimDeSang with solve time 46.0 minutes\n",
            "Problem E: Fastest team is DU_Primordius with solve time 189.0 minutes\n",
            "Problem G: Fastest team is BRACU_Crows with solve time 3.0 minutes\n",
            "Problem I: Fastest team is 998244353 with solve time 7.0 minutes\n",
            "Problem J: Fastest team is DU_Singularity with solve time 34.0 minutes\n"
          ]
        }
      ],
      "source": [
        "fastest_solvers = {}\n",
        "problem_columns = sorted(list(set([col[11:] for col in df.columns if col.startswith('attemptsFor')])))\n",
        "\n",
        "for problem in problem_columns:\n",
        "    time_col = f'timeFor{problem}'\n",
        "    solved_teams = df[df[time_col].notna()]\n",
        "    if not solved_teams.empty:\n",
        "        fastest_team = solved_teams.loc[solved_teams[time_col].idxmin()]\n",
        "        fastest_solvers[problem] = {\n",
        "            'team_name': fastest_team['name'],\n",
        "            'solve_time': fastest_team[time_col]\n",
        "        }\n",
        "\n",
        "for problem, data in fastest_solvers.items():\n",
        "    print(f\"Problem {problem}: Fastest team is {data['team_name']} with solve time {data['solve_time']} minutes\")"
      ]
    },
    {
      "cell_type": "markdown",
      "metadata": {},
      "source": [
        "### **Task-3**"
      ]
    },
    {
      "cell_type": "code",
      "execution_count": 24,
      "metadata": {
        "colab": {
          "base_uri": "https://localhost:8080/",
          "height": 564
        },
        "id": "b32ea001",
        "outputId": "5e2b6889-5cc7-4606-975c-23b1cbcf18d4"
      },
      "outputs": [
        {
          "data": {
            "image/png": "[encoded data removed]",
            "text/plain": [
              "<Figure size 1200x600 with 1 Axes>"
            ]
          },
          "metadata": {},
          "output_type": "display_data"
        }
      ],
      "source": [
        "import matplotlib.pyplot as plt\n",
        "import seaborn as sns\n",
        "\n",
        "# Count the number of teams who solved each problem\n",
        "solved_counts = {}\n",
        "problem_columns = sorted(list(set([col[11:] for col in df.columns if col.startswith('attemptsFor')])))\n",
        "\n",
        "for problem in problem_columns:\n",
        "    time_col = f'timeFor{problem}'\n",
        "    solved_counts[problem] = df[df[time_col].notna()].shape[0]\n",
        "\n",
        "solved_counts_df = pd.DataFrame.from_dict(solved_counts, orient='index', columns=['teams_solved']).reset_index()\n",
        "solved_counts_df = solved_counts_df.rename(columns={'index': 'problem'})\n",
        "solved_counts_df = solved_counts_df.sort_values(by='teams_solved', ascending=False)\n",
        "\n",
        "plt.figure(figsize=(12, 6))\n",
        "sns.barplot(x='problem', y='teams_solved', data=solved_counts_df)\n",
        "plt.title('Number of Teams That Solved Each Problem')\n",
        "plt.xlabel('Problem')\n",
        "plt.ylabel('Number of Teams Solved')\n",
        "plt.show()"
      ]
    },
    {
      "cell_type": "code",
      "execution_count": 25,
      "metadata": {
        "colab": {
          "base_uri": "https://localhost:8080/",
          "height": 741
        },
        "id": "9766aea8",
        "outputId": "c2ccb504-8fa3-44f7-e148-0748a77c6329"
      },
      "outputs": [
        {
          "data": {
            "text/html": [
              "<div>\n",
              "<style scoped>\n",
              "    .dataframe tbody tr th:only-of-type {\n",
              "        vertical-align: middle;\n",
              "    }\n",
              "\n",
              "    .dataframe tbody tr th {\n",
              "        vertical-align: top;\n",
              "    }\n",
              "\n",
              "    .dataframe thead th {\n",
              "        text-align: right;\n",
              "    }\n",
              "</style>\n",
              "<table border=\"1\" class=\"dataframe\">\n",
              "  <thead>\n",
              "    <tr style=\"text-align: right;\">\n",
              "      <th></th>\n",
              "      <th>institution</th>\n",
              "      <th>average_problems_solved</th>\n",
              "      <th>average_total_penalty</th>\n",
              "    </tr>\n",
              "  </thead>\n",
              "  <tbody>\n",
              "    <tr>\n",
              "      <th>0</th>\n",
              "      <td>BANGLADESH UNIVERSITY OF ENGINEERING AND TECHN...</td>\n",
              "      <td>3.600000</td>\n",
              "      <td>407.900000</td>\n",
              "    </tr>\n",
              "    <tr>\n",
              "      <th>1</th>\n",
              "      <td>BRAC UNIVERSITY</td>\n",
              "      <td>3.800000</td>\n",
              "      <td>518.400000</td>\n",
              "    </tr>\n",
              "    <tr>\n",
              "      <th>2</th>\n",
              "      <td>COMILLA UNIVERSITY</td>\n",
              "      <td>3.400000</td>\n",
              "      <td>428.600000</td>\n",
              "    </tr>\n",
              "    <tr>\n",
              "      <th>3</th>\n",
              "      <td>ISLAMIC UNIVERSITY OF TECHNOLOGY</td>\n",
              "      <td>3.500000</td>\n",
              "      <td>352.166667</td>\n",
              "    </tr>\n",
              "    <tr>\n",
              "      <th>4</th>\n",
              "      <td>KHULNA UNIVERSITY OF ENGINEERING &amp; TECHNOLOGY</td>\n",
              "      <td>3.250000</td>\n",
              "      <td>502.250000</td>\n",
              "    </tr>\n",
              "    <tr>\n",
              "      <th>5</th>\n",
              "      <td>RAJSHAHI UNIVERSITY OF ENGINEERING &amp; TECHNOLOGY</td>\n",
              "      <td>3.444444</td>\n",
              "      <td>463.333333</td>\n",
              "    </tr>\n",
              "    <tr>\n",
              "      <th>6</th>\n",
              "      <td>SHAHJALAL UNIVERSITY OF SCIENCE AND TECHNOLOGY</td>\n",
              "      <td>4.300000</td>\n",
              "      <td>610.200000</td>\n",
              "    </tr>\n",
              "    <tr>\n",
              "      <th>7</th>\n",
              "      <td>UNIVERSITY OF DHAKA</td>\n",
              "      <td>3.888889</td>\n",
              "      <td>502.666667</td>\n",
              "    </tr>\n",
              "  </tbody>\n",
              "</table>\n",
              "</div>"
            ],
            "text/plain": [
              "                                         institution  average_problems_solved  \\\n",
              "0  BANGLADESH UNIVERSITY OF ENGINEERING AND TECHN...                 3.600000   \n",
              "1                                    BRAC UNIVERSITY                 3.800000   \n",
              "2                                 COMILLA UNIVERSITY                 3.400000   \n",
              "3                   ISLAMIC UNIVERSITY OF TECHNOLOGY                 3.500000   \n",
              "4      KHULNA UNIVERSITY OF ENGINEERING & TECHNOLOGY                 3.250000   \n",
              "5    RAJSHAHI UNIVERSITY OF ENGINEERING & TECHNOLOGY                 3.444444   \n",
              "6     SHAHJALAL UNIVERSITY OF SCIENCE AND TECHNOLOGY                 4.300000   \n",
              "7                                UNIVERSITY OF DHAKA                 3.888889   \n",
              "\n",
              "   average_total_penalty  \n",
              "0             407.900000  \n",
              "1             518.400000  \n",
              "2             428.600000  \n",
              "3             352.166667  \n",
              "4             502.250000  \n",
              "5             463.333333  \n",
              "6             610.200000  \n",
              "7             502.666667  "
            ]
          },
          "metadata": {},
          "output_type": "display_data"
        },
        {
          "data": {
            "image/png": "[encoded data removed]",
            "text/plain": [
              "<Figure size 1800x600 with 2 Axes>"
            ]
          },
          "metadata": {},
          "output_type": "display_data"
        }
      ],
      "source": [
        "# Analyze institutional performance for top institutions\n",
        "top_institutions = ['BANGLADESH UNIVERSITY OF ENGINEERING AND TECHNOLOGY', 'SHAHJALAL UNIVERSITY OF SCIENCE AND TECHNOLOGY', 'UNIVERSITY OF DHAKA', 'BRAC UNIVERSITY', 'ISLAMIC UNIVERSITY OF TECHNOLOGY', 'RAJSHAHI UNIVERSITY OF ENGINEERING & TECHNOLOGY', 'KHULNA UNIVERSITY OF ENGINEERING & TECHNOLOGY', 'COMILLA UNIVERSITY']\n",
        "\n",
        "# Filter the ranked teams to include only the top institutions\n",
        "top_institutions_df = ranked_teams[ranked_teams['institution'].isin(top_institutions)]\n",
        "\n",
        "# Group by institution and calculate average problems solved and total penalty\n",
        "institutional_performance = top_institutions_df.groupby('institution').agg(\n",
        "    average_problems_solved=('problems_solved', 'mean'),\n",
        "    average_total_penalty=('total_penalty', 'mean')\n",
        ").reset_index()\n",
        "\n",
        "display(institutional_performance)\n",
        "\n",
        "# Visualize institutional performance\n",
        "fig, axes = plt.subplots(1, 2, figsize=(18, 6))\n",
        "\n",
        "sns.barplot(x='average_problems_solved', y='institution', data=institutional_performance.sort_values(by='average_problems_solved', ascending=False), ax=axes[0])\n",
        "axes[0].set_title('Average Problems Solved by Top Institutions')\n",
        "axes[0].set_xlabel('Average Problems Solved')\n",
        "axes[0].set_ylabel('Institution')\n",
        "\n",
        "sns.barplot(x='average_total_penalty', y='institution', data=institutional_performance.sort_values(by='average_total_penalty'), ax=axes[1])\n",
        "axes[1].set_title('Average Total Penalty by Top Institutions')\n",
        "axes[1].set_xlabel('Average Total Penalty')\n",
        "axes[1].set_ylabel('Institution')\n",
        "\n",
        "plt.tight_layout()\n",
        "plt.show()"
      ]
    },
    {
      "cell_type": "code",
      "execution_count": 26,
      "metadata": {
        "colab": {
          "base_uri": "https://localhost:8080/"
        },
        "id": "3e83bcac",
        "outputId": "462d65c5-57c9-42e8-8746-f838aff680b4"
      },
      "outputs": [
        {
          "name": "stdout",
          "output_type": "stream",
          "text": [
            "['KHWAJA YUNUS ALI UNIVERSITY' 'BANGLADESH OPEN UNIVERSITY'\n",
            " 'RAJSHAHI UNIVERSITY OF ENGINEERING & TECHNOLOGY'\n",
            " 'ATISH DIPANKAR UNIVERSITY OF SCIENCE AND TECHNOLOGY'\n",
            " 'AMERICAN INTERNATIONAL UNIVERSITY - BANGLADESH'\n",
            " 'ASIAN UNIVERSITY OF BANGLADESH'\n",
            " 'AHSANULLAH UNIVERSITY OF SCIENCE AND TECHNOLOGY'\n",
            " 'NOAKHALI SCIENCE AND TECHNOLOGY UNIVERSITY'\n",
            " 'JATIYA KABI KAZI NAZRUL ISLAM UNIVERSITY'\n",
            " 'RANGAMATI SCIENCE AND TECHNOLOGY UNIVERSITY'\n",
            " 'JAGANNATH UNIVERSITY, BANGLADESH'\n",
            " 'BANGLADESH ARMY INTERNATIONAL UNIVERSITY OF SCIENCE AND TECHNOLOGY'\n",
            " 'BANGLADESH ARMY UNIVERSITY OF ENGINEERING AND TECHNOLOGY'\n",
            " 'BANGLADESH ARMY UNIVERSITY OF SCIENCE AND TECHNOLOGY'\n",
            " 'BANGLADESH AGRICULTURAL UNIVERSITY' 'BRAHMANBARIA POLYTECHNIC INSTITUTE'\n",
            " 'BGC TRUST UNIVERSITY BANGLADESH' 'BRAC UNIVERSITY'\n",
            " 'BEGUM ROKEYA UNIVERSITY, RANGPUR'\n",
            " 'BANGAMATA SHEIKH FOJILATUNNESA MUJIB SCIENCE AND TECHNOLOGY UNIVERSITY'\n",
            " 'BANGABANDHU SHEIKH MUJIBUR RAHMAN SCIENCE AND TECHNOLOGY UNIVERSITY'\n",
            " 'BANGABANDHU SHEIKH MUJIBUR RAHMAN UNIVERSITY, KISHOREGANJ'\n",
            " 'BANGLADESH UNIVERSITY OF BUSINESS AND TECHNOLOGY'\n",
            " 'BANGLADESH UNIVERSITY OF ENGINEERING AND TECHNOLOGY'\n",
            " 'BANGLADESH UNIVERSITY OF TEXTILES' 'UNIVERSITY OF BARISHAL'\n",
            " 'SOUTHEAST UNIVERSITY, BANGLADESH' 'BANGLADESH UNIVERSITY'\n",
            " 'RTM AL-KABIR TECHNICAL UNIVERSITY' 'HAMDARD UNIVERSITY BANGLADESH'\n",
            " 'KHULNA UNIVERSITY OF ENGINEERING & TECHNOLOGY'\n",
            " 'COLLEGE OF BUSINESS SCIENCE AND TECHNOLOGY, MYMENSINGH'\n",
            " 'CCN UNIVERSITY OF SCIENCE AND TECHNOLOGY'\n",
            " 'CHATTOGRAM POLYTECHNIC INSTITUTE'\n",
            " 'CHANDPUR SCIENCE AND TECHNOLOGY UNIVERSITY'\n",
            " 'CANADIAN UNIVERSITY OF BANGLADESH'\n",
            " 'CHITTAGONG UNIVERSITY OF ENGINEERING & TECHNOLOGY'\n",
            " 'CHITTAGONG UNIVERSITY OF ENGINEERING AND TECHNOLOGY'\n",
            " 'CENTRAL UNIVERSITY OF SCIENCE AND TECHNOLOGY' 'UNIVERSITY OF CHITTAGONG'\n",
            " 'CENTRAL WOMENS UNIVERSITY' 'CITY UNIVERSITY' 'COMILLA UNIVERSITY'\n",
            " 'PRESIDENCY UNIVERSITY' 'DHAKA CITY COLLEGE'\n",
            " 'DAFFODIL INSTITUTE OF INFORMATION TECHNOLOGY'\n",
            " 'DAFFODIL INTERNATIONAL UNIVERSITY' 'DHAKA INTERNATIONAL UNIVERSITY'\n",
            " 'DHAKA UNIVERSITY OF ENGINEERING AND TECHNOLOGY - GAZIPUR'\n",
            " 'UNIVERSITY OF DHAKA'\n",
            " 'MAWLANA BHASHANI SCIENCE AND TECHNOLOGY UNIVERSITY'\n",
            " 'EAST DELTA UNIVERSITY, CHITTAGONG' 'EASTERN UNIVERSITY OF BANGLADESH'\n",
            " 'EAST WEST UNIVERSITY' 'FARIDPUR ENGINEERING COLLEGE'\n",
            " 'FAREAST INTERNATIONAL UNIVERSITY' 'FENI UNIVERSITY'\n",
            " 'SHAHJALAL UNIVERSITY OF SCIENCE AND TECHNOLOGY'\n",
            " 'GONO BISHWABIDYALAY (GONO UNIVERSITY)' 'GREEN UNIVERSITY OF BANGLADESH'\n",
            " 'GERMAN UNIVERSITY BANGLADESH' 'HEADWAY ENGINEERING INSTITUTE | SYLHET'\n",
            " 'HAJEE MOHAMMAD DANESH SCIENCE AND TECHNOLOGY UNIVERSITY'\n",
            " 'HAJEE MOHAMMAD DANESH SCIENCE & TECHNOLOGY UNIVERSITY'\n",
            " 'IMPERIAL COLLEGE OF ENGINEERING, KHULNA'\n",
            " 'INTERNATIONAL ISLAMIC UNIVERSITY CHITTAGONG'\n",
            " 'INTERNATIONAL ISLAMI UNIVERSITY OF SCIENCE AND TECHNOLOGY BANGLADESH'\n",
            " 'NATIONAL INSTITUTE OF TEXTILE ENGINEERING AND RESEARCH'\n",
            " 'INTERNATIONAL OLYMPIAD IN INFORMATICS'\n",
            " 'INSTITUTE OF SCIENCE TRADE AND TECHNOLOGY'\n",
            " 'INSTITUTE OF SCIENCE AND TECHNOLOGY' 'INTERNATIONAL STANDARD UNIVERSITY'\n",
            " 'INTERNATIONAL UNIVERSITY OF BUSINESS AGRICULTURE AND TECHNOLOGY'\n",
            " 'INDEPENDENT UNIVERSITY - BANGLADESH'\n",
            " 'INTERNATIONAL UNIVERSITY OF SCHOLARS' 'ISLAMIC UNIVERSITY OF TECHNOLOGY'\n",
            " 'ISLAMIC UNIVERSITY, BANGLADESH' 'BANGLADESH UNIVERSITY OF PROFESSIONALS'\n",
            " 'JASHORE UNIVERSITY OF SCIENCE AND TECHNOLOGY' 'JAHANGIRNAGAR UNIVERSITY'\n",
            " 'KHULNA UNIVERSITY' 'LEADING UNIVERSITY, SYLHET'\n",
            " 'MYMENSINGH ENGINEERING COLLEGE'\n",
            " 'MILITARY INSTITUTE OF SCIENCE AND TECHNOLOGY'\n",
            " 'MANARAT INTERNATIONAL UNIVERSITY' 'METROPOLITAN UNIVERSITY'\n",
            " 'NOTRE DAME UNIVERSITY BANGLADESH' 'NORTH EAST UNIVERSITY BANGLADESH'\n",
            " 'NORTH SOUTH UNIVERSITY'\n",
            " 'NORTHERN UNIVERSITY OF BUSINESS AND TECHNOLOGY KHULNA'\n",
            " 'NORTHERN UNIVERSITY BANGLADESH' 'NORTH WESTERN UNIVERSITY, KHULNA'\n",
            " 'PRIMEASIA UNIVERSITY' 'PORT CITY INTERNATIONAL UNIVERSITY'\n",
            " 'PATUAKHALI SCIENCE AND TECHNOLOGY UNIVERSITY'\n",
            " 'PUNDRA UNIVERSITY OF SCIENCE AND TECHNOLOGY'\n",
            " 'PREMIER UNIVERSITY CHITTAGONG'\n",
            " 'PABNA UNIVERSITY OF SCIENCE AND TECHNOLOGY' 'PRIME UNIVERSITY'\n",
            " 'RANGPUR POLYTECHNIC INSTITUTE' 'R. P. SHAHA UNIVERSITY'\n",
            " 'UNIVERSITY OF RAJSHAHI' 'SHEIKH HASINA UNIVERSITY'\n",
            " 'CHITTAGONG INDEPENDENT UNIVERSITY' 'SYLHET ENGINEERING COLLEGE'\n",
            " 'SHEIKH FAZILATUNNESA MUJIB UNIVERSITY' 'SYLHET INTERNATIONAL UNIVERSITY'\n",
            " 'SHANTO-MARIAM UNIVERSITY OF CREATIVE TECHNOLOGY'\n",
            " 'SOUTHERN UNIVERSITY BANGLADESH' 'SONARGAON UNIVERSITY'\n",
            " 'RANGPUR ENGINEERING COLLEGE,RANGPUR' 'UNIVERSITY OF SCHOLARS'\n",
            " 'STATE UNIVERSITY OF BANGLADESH' 'TEJGAON COLLEGE'\n",
            " 'TMSS ENGINEERING COLLEGE' 'TEESTA UNIVERSITY'\n",
            " 'UNIVERSITY OF ASIA PACIFIC' 'UNIVERSITY OF GLOBAL VILLAGE'\n",
            " 'UNIVERSITY OF INFORMATION TECHNOLOGY AND SCIENCES'\n",
            " 'UNITED INTERNATIONAL UNIVERSITY' 'UNIVERSITY OF LIBERAL ARTS BANGLADESH'\n",
            " 'UTTARA UNIVERSITY' 'UNIVERSITY OF CREATIVE TECHNOLOGY, CHITTAGONG'\n",
            " 'VARENDRA UNIVERSITY' 'WORLD UNIVERSITY OF BANGLADESH'\n",
            " 'Z. H. SIKDER UNIVERSITY OF SCIENCE AND TECHNOLOGY'\n",
            " 'BANGABANDHU SHEIKH MUJIBUR RAHMAN DIGITAL UNIVERSITY,BANGLADESH'\n",
            " 'BARISAL INFORMATION TECHNOLOGY COLLEGE' 'TEMP INSTITUTE']\n"
          ]
        }
      ],
      "source": [
        "unique_institutions = df['institution'].unique()\n",
        "print(unique_institutions)"
      ]
    },
    {
      "cell_type": "markdown",
      "metadata": {
        "id": "42d32e7a"
      },
      "source": [
        "## Analysis Summary\n",
        "\n",
        "Based on the analysis of the ICPC Dhaka Regional 2024 dataset:\n",
        "\n",
        "### Top Teams\n",
        "The top 10 teams were ranked based on the number of problems solved and total penalty time. The top team, SUST_Fanatics, solved 7 problems with a total penalty of 948 minutes.\n",
        "\n",
        "### Fastest Solvers\n",
        "The fastest solvers for each problem were identified. For example, the fastest team to solve Problem G was BRACU_Crows with a solve time of 3 minutes.\n",
        "\n",
        "### Problem Difficulty\n",
        "By visualizing the number of teams that solved each problem, it is evident that problems I, G, and J were solved by the most teams, suggesting they were among the easier problems. Conversely, problems A, F, H, K, and L were not solved by any teams, indicating they were the most difficult.\n",
        "\n",
        "### Institutional Performance\n",
        "An analysis of the top institutions revealed that SHAHJALAL UNIVERSITY OF SCIENCE AND TECHNOLOGY had the highest average number of problems solved among the listed institutions, while ISLAMIC UNIVERSITY OF TECHNOLOGY had the lowest average total penalty."
      ]
    }
  ],
  "metadata": {
    "colab": {
      "provenance": []
    },
    "kernelspec": {
      "display_name": "Python 3",
      "name": "python3"
    },
    "language_info": {
      "codemirror_mode": {
        "name": "ipython",
        "version": 3
      },
      "file_extension": ".py",
      "mimetype": "text/x-python",
      "name": "python",
      "nbconvert_exporter": "python",
      "pygments_lexer": "ipython3",
      "version": "3.13.5"
    }
  },
  "nbformat": 4,
  "nbformat_minor": 0
}
