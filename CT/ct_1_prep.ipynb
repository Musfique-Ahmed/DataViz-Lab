{
 "cells": [
  {
   "cell_type": "markdown",
   "id": "9152cfca",
   "metadata": {},
   "source": [
    "**10 marks written question:** short questions, mostly focusing on Numpy\n",
    "\n",
    "**10 marks lab task:** a slight variation to the lab tasks shown in class, you need to write simple code and explanation"
   ]
  },
  {
   "cell_type": "markdown",
   "id": "a356c723",
   "metadata": {},
   "source": [
    "Import necessary modules and libraries"
   ]
  },
  {
   "cell_type": "code",
   "execution_count": 1,
   "id": "8c7e2237",
   "metadata": {},
   "outputs": [],
   "source": [
    "import numpy as np\n",
    "import pandas as pd\n",
    "import matplotlib.pyplot as plt\n",
    "import seaborn as sns"
   ]
  },
  {
   "cell_type": "markdown",
   "id": "68d1e52a",
   "metadata": {},
   "source": [
    "Normal Distribution"
   ]
  },
  {
   "cell_type": "code",
   "execution_count": null,
   "id": "b5425fc5",
   "metadata": {},
   "outputs": [
    {
     "data": {
      "text/plain": [
       "array([54.41227487, 46.69129848, 74.30771187, 47.4790787 , 51.09609842,\n",
       "       65.82481117, 40.90767595, 44.08363342, 51.87603226, 46.70130042])"
      ]
     },
     "execution_count": 4,
     "metadata": {},
     "output_type": "execute_result"
    }
   ],
   "source": [
    "np.random.seed(5)\n",
    "np.random.normal(50,10,10) #(mean, std, number of elements) so, range = 50 +- 10 = 40 to 50"
   ]
  },
  {
   "cell_type": "markdown",
   "id": "9eb465eb",
   "metadata": {},
   "source": [
    "Std normal distribution (mean = 0, std = 1)"
   ]
  },
  {
   "cell_type": "code",
   "execution_count": null,
   "id": "a2aba556",
   "metadata": {},
   "outputs": [
    {
     "name": "stdout",
     "output_type": "stream",
     "text": [
      "3\n",
      "4\n",
      "7\n",
      "8\n"
     ]
    }
   ],
   "source": [
    "a = [[3, 4], [7, 8]]\n",
    "b = [[1, 2], [5, 6]]\n",
    "\n",
    "c = []\n",
    "\n",
    "for i in range(len(a)):\n",
    "    "
   ]
  }
 ],
 "metadata": {
  "kernelspec": {
   "display_name": "Python 3",
   "language": "python",
   "name": "python3"
  },
  "language_info": {
   "codemirror_mode": {
    "name": "ipython",
    "version": 3
   },
   "file_extension": ".py",
   "mimetype": "text/x-python",
   "name": "python",
   "nbconvert_exporter": "python",
   "pygments_lexer": "ipython3",
   "version": "3.13.5"
  }
 },
 "nbformat": 4,
 "nbformat_minor": 5
}
