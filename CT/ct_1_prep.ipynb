{
 "cells": [
  {
   "cell_type": "markdown",
   "id": "9152cfca",
   "metadata": {},
   "source": [
    "**10 marks written question:** short questions, mostly focusing on Numpy\n",
    "\n",
    "**10 marks lab task:** a slight variation to the lab tasks shown in class, you need to write simple code and explanation"
   ]
  },
  {
   "cell_type": "markdown",
   "id": "a356c723",
   "metadata": {},
   "source": [
    "Import necessary modules and libraries"
   ]
  },
  {
   "cell_type": "code",
   "execution_count": 4,
   "id": "8c7e2237",
   "metadata": {},
   "outputs": [],
   "source": [
    "import numpy as np\n",
    "import pandas as pd\n",
    "import matplotlib.pyplot as plt\n",
    "import seaborn as sns"
   ]
  },
  {
   "cell_type": "markdown",
   "id": "68d1e52a",
   "metadata": {},
   "source": [
    "Normal Distribution"
   ]
  },
  {
   "cell_type": "code",
   "execution_count": 5,
   "id": "b5425fc5",
   "metadata": {},
   "outputs": [
    {
     "data": {
      "text/plain": [
       "array([54.41227487, 46.69129848, 74.30771187, 47.4790787 , 51.09609842,\n",
       "       65.82481117, 40.90767595, 44.08363342, 51.87603226, 46.70130042])"
      ]
     },
     "execution_count": 5,
     "metadata": {},
     "output_type": "execute_result"
    }
   ],
   "source": [
    "np.random.seed(5)\n",
    "np.random.normal(50,10,10) #(mean, std, number of elements) so, range = 50 +- 10 = 40 to 50"
   ]
  },
  {
   "cell_type": "markdown",
   "id": "9eb465eb",
   "metadata": {},
   "source": [
    "Std normal distribution (mean = 0, std = 1)"
   ]
  },
  {
   "cell_type": "code",
   "execution_count": 6,
   "id": "a2aba556",
   "metadata": {},
   "outputs": [],
   "source": [
    "a = [[3, 4], [7, 8]]\n",
    "b = [[1, 2], [5, 6]]\n",
    "\n",
    "c = []\n",
    "\n",
    "for i in range(len(a)):\n",
    "    pass"
   ]
  },
  {
   "cell_type": "code",
   "execution_count": 7,
   "id": "0d151aa0",
   "metadata": {},
   "outputs": [
    {
     "data": {
      "text/html": [
       "<div>\n",
       "<style scoped>\n",
       "    .dataframe tbody tr th:only-of-type {\n",
       "        vertical-align: middle;\n",
       "    }\n",
       "\n",
       "    .dataframe tbody tr th {\n",
       "        vertical-align: top;\n",
       "    }\n",
       "\n",
       "    .dataframe thead th {\n",
       "        text-align: right;\n",
       "    }\n",
       "</style>\n",
       "<table border=\"1\" class=\"dataframe\">\n",
       "  <thead>\n",
       "    <tr style=\"text-align: right;\">\n",
       "      <th></th>\n",
       "      <th>date</th>\n",
       "      <th>datetime</th>\n",
       "      <th>cash_type</th>\n",
       "      <th>card</th>\n",
       "      <th>money</th>\n",
       "      <th>coffee_name</th>\n",
       "    </tr>\n",
       "  </thead>\n",
       "  <tbody>\n",
       "    <tr>\n",
       "      <th>0</th>\n",
       "      <td>2024-03-01</td>\n",
       "      <td>2024-03-01 10:15:50.520</td>\n",
       "      <td>card</td>\n",
       "      <td>ANON-0000-0000-0001</td>\n",
       "      <td>38.7</td>\n",
       "      <td>Latte</td>\n",
       "    </tr>\n",
       "    <tr>\n",
       "      <th>1</th>\n",
       "      <td>2024-03-01</td>\n",
       "      <td>2024-03-01 12:19:22.539</td>\n",
       "      <td>card</td>\n",
       "      <td>ANON-0000-0000-0002</td>\n",
       "      <td>38.7</td>\n",
       "      <td>Hot Chocolate</td>\n",
       "    </tr>\n",
       "    <tr>\n",
       "      <th>2</th>\n",
       "      <td>2024-03-01</td>\n",
       "      <td>2024-03-01 12:20:18.089</td>\n",
       "      <td>card</td>\n",
       "      <td>ANON-0000-0000-0002</td>\n",
       "      <td>38.7</td>\n",
       "      <td>Hot Chocolate</td>\n",
       "    </tr>\n",
       "    <tr>\n",
       "      <th>3</th>\n",
       "      <td>2024-03-01</td>\n",
       "      <td>2024-03-01 13:46:33.006</td>\n",
       "      <td>card</td>\n",
       "      <td>ANON-0000-0000-0003</td>\n",
       "      <td>28.9</td>\n",
       "      <td>Americano</td>\n",
       "    </tr>\n",
       "    <tr>\n",
       "      <th>4</th>\n",
       "      <td>2024-03-01</td>\n",
       "      <td>2024-03-01 13:48:14.626</td>\n",
       "      <td>card</td>\n",
       "      <td>ANON-0000-0000-0004</td>\n",
       "      <td>38.7</td>\n",
       "      <td>Latte</td>\n",
       "    </tr>\n",
       "  </tbody>\n",
       "</table>\n",
       "</div>"
      ],
      "text/plain": [
       "         date                 datetime cash_type                 card  money  \\\n",
       "0  2024-03-01  2024-03-01 10:15:50.520      card  ANON-0000-0000-0001   38.7   \n",
       "1  2024-03-01  2024-03-01 12:19:22.539      card  ANON-0000-0000-0002   38.7   \n",
       "2  2024-03-01  2024-03-01 12:20:18.089      card  ANON-0000-0000-0002   38.7   \n",
       "3  2024-03-01  2024-03-01 13:46:33.006      card  ANON-0000-0000-0003   28.9   \n",
       "4  2024-03-01  2024-03-01 13:48:14.626      card  ANON-0000-0000-0004   38.7   \n",
       "\n",
       "     coffee_name  \n",
       "0          Latte  \n",
       "1  Hot Chocolate  \n",
       "2  Hot Chocolate  \n",
       "3      Americano  \n",
       "4          Latte  "
      ]
     },
     "execution_count": 7,
     "metadata": {},
     "output_type": "execute_result"
    }
   ],
   "source": [
    "import pandas as pd\n",
    "\n",
    "df = pd.read_csv(\"index_1.csv\")\n",
    "\n",
    "df.head()"
   ]
  },
  {
   "cell_type": "code",
   "execution_count": 8,
   "id": "6c092685",
   "metadata": {},
   "outputs": [
    {
     "data": {
      "text/plain": [
       "array([38.07235388, 47.95123489, 46.41171053, 56.03471603, 33.35211471,\n",
       "       42.99820962, 61.51391009, 68.57331007, 34.88820442, 56.44847511])"
      ]
     },
     "execution_count": 8,
     "metadata": {},
     "output_type": "execute_result"
    }
   ],
   "source": [
    "x = np.random.normal(50,10,10)\n",
    "x"
   ]
  },
  {
   "cell_type": "code",
   "execution_count": 11,
   "id": "d852783a",
   "metadata": {},
   "outputs": [
    {
     "data": {
      "text/plain": [
       "array([3.6394884 , 3.87018455, 3.83755181, 4.02597143, 3.50712118,\n",
       "       3.76115848, 4.11926333, 4.22790339, 3.55214879, 4.03332828])"
      ]
     },
     "execution_count": 11,
     "metadata": {},
     "output_type": "execute_result"
    }
   ],
   "source": [
    "l = np.log(x)\n",
    "l"
   ]
  },
  {
   "cell_type": "code",
   "execution_count": 13,
   "id": "62a31a54",
   "metadata": {},
   "outputs": [
    {
     "data": {
      "text/plain": [
       "np.float64(3.857411963833054)"
      ]
     },
     "execution_count": 13,
     "metadata": {},
     "output_type": "execute_result"
    }
   ],
   "source": [
    "mean = np.mean(l)\n",
    "mean"
   ]
  },
  {
   "cell_type": "code",
   "execution_count": 14,
   "id": "5aaf3d22",
   "metadata": {},
   "outputs": [
    {
     "name": "stdout",
     "output_type": "stream",
     "text": [
      "47.34266814562052\n"
     ]
    }
   ],
   "source": [
    "print(np.exp(mean))"
   ]
  },
  {
   "cell_type": "code",
   "execution_count": 15,
   "id": "7e7fcc91",
   "metadata": {},
   "outputs": [
    {
     "name": "stdout",
     "output_type": "stream",
     "text": [
      "Geometric mean: 47.34266814562052\n"
     ]
    }
   ],
   "source": [
    "print(f\"Geometric mean: {np.exp(np.mean(np.log(x)))}\")"
   ]
  },
  {
   "cell_type": "code",
   "execution_count": null,
   "id": "43edb915",
   "metadata": {},
   "outputs": [],
   "source": []
  }
 ],
 "metadata": {
  "kernelspec": {
   "display_name": "Python 3",
   "language": "python",
   "name": "python3"
  },
  "language_info": {
   "codemirror_mode": {
    "name": "ipython",
    "version": 3
   },
   "file_extension": ".py",
   "mimetype": "text/x-python",
   "name": "python",
   "nbconvert_exporter": "python",
   "pygments_lexer": "ipython3",
   "version": "3.13.5"
  }
 },
 "nbformat": 4,
 "nbformat_minor": 5
}
