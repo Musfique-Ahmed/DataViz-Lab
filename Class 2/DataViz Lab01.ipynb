{
 "cells": [
  {
   "cell_type": "markdown",
   "metadata": {
    "id": "3S77RmaKvGb1"
   },
   "source": [
    "# Lab 01: Getting Started with Python Libraries for Data Visualization"
   ]
  },
  {
   "cell_type": "markdown",
   "metadata": {
    "id": "drHiykDsvH_S"
   },
   "source": [
    "**Objectives**\n",
    "\n",
    "- Understand lab tools and environments.\n",
    "- Learn basic operations with NumPy, Pandas, Matplotlib, and Seaborn.\n",
    "- Understand types of data and how to visualize them simply."
   ]
  },
  {
   "cell_type": "markdown",
   "metadata": {
    "id": "HrlJvWZ7vkXS"
   },
   "source": [
    "**Tools Used**\n",
    "\n",
    "- Google Colab\n",
    "- NumPy\n",
    "- Pandas\n",
    "- Matplotlib\n",
    "- Seaborn"
   ]
  },
  {
   "cell_type": "markdown",
   "metadata": {
    "id": "nH0AULBTv7p0"
   },
   "source": [
    "**Datasets Used**\n",
    "\n",
    "NYC Weather Dataset (nyc_weather)\n",
    "This dataset contains daily weather records for New York City and is sourced from Kaggle (https://www.kaggle.com/datasets/jacob55/nyc-weather). It includes observations such as maximum and minimum temperatures (in Fahrenheit), precipitation, snowfall, and snow depth for each day. The dataset helps students work with real-world data involving missing values, continuous variables, and temporal attributes. It will be used in this lab to demonstrate data loading, inspection, and basic visualization using Pandas and Matplotlib. This dataset will be accessed by uploading it to Google Drive and loading it from there.\n",
    "\n",
    "Tips Dataset (tips)\n",
    "The tips dataset is a built-in dataset provided by the Seaborn library. It contains information about restaurant bills and tips, along with categorical attributes such as the gender of the customer, smoking status, day of the week, time of the meal, and party size. This dataset is often used for introductory data visualization tasks because of its mix of numerical and categorical variables. In this lab, students will use it to create histograms and scatter plots with color encoding based on categorical values. The dataset will be loaded directly using Seaborn's load_dataset function.\n",
    "\n",
    "Iris Dataset (iris)\n",
    "The iris dataset is another classic dataset included in the Seaborn library. It contains measurements of iris flowers from three different species—setosa, versicolor, and virginica. Each entry includes values for sepal length, sepal width, petal length, and petal width. This dataset is widely used for demonstrating basic statistical analysis and visualization due to its clean structure and balanced class labels. In this lab, students will use it to construct a correlation heatmap and gain insights into the relationships between numerical features."
   ]
  },
  {
   "cell_type": "markdown",
   "metadata": {
    "id": "FKOWSizk7UYZ"
   },
   "source": [
    "# Load Files"
   ]
  },
  {
   "cell_type": "code",
   "execution_count": null,
   "metadata": {
    "id": "FRZTANYA7XGN"
   },
   "outputs": [],
   "source": [
    "# !unzip /content/lab01.zip"
   ]
  },
  {
   "cell_type": "markdown",
   "metadata": {
    "id": "GgDBh1HfzFx4"
   },
   "source": [
    "# NumPy"
   ]
  },
  {
   "cell_type": "markdown",
   "metadata": {
    "id": "UHqi9iMiz7yR"
   },
   "source": [
    "NumPy (short for Numerical Python) is a powerful Python library used for numerical and scientific computing. It provides efficient tools for working with large arrays, matrices, and performing mathematical operations on them.\n",
    "\n",
    "A NumPy array (also called ndarray) is a fast and flexible container for storing and manipulating numerical data. It looks like a list or list of lists, but is more efficient and supports a wide range of operations."
   ]
  },
  {
   "cell_type": "markdown",
   "metadata": {
    "id": "caMFjZNS0T9a"
   },
   "source": [
    "## Import NumPy"
   ]
  },
  {
   "cell_type": "code",
   "execution_count": null,
   "metadata": {
    "id": "-7i1xMcV0OXS"
   },
   "outputs": [],
   "source": [
    "import numpy as np"
   ]
  },
  {
   "cell_type": "markdown",
   "metadata": {
    "id": "QeP1VO1yzOXW"
   },
   "source": [
    "## Task: Given two matrices A and B (of same dimensions), find C = 2A - 3B"
   ]
  },
  {
   "cell_type": "code",
   "execution_count": null,
   "metadata": {
    "id": "hjdVmbJYuQMg"
   },
   "outputs": [],
   "source": [
    "a = [[3, 4], [7, 8]]\n",
    "b = [[1, 2], [5, 6]]\n",
    "\n",
    "c = []\n",
    "\n",
    "for i in range(len(a)):\n",
    "    row = []\n",
    "    for j in range(len(a[i])):\n",
    "        value = 2 * a[i][j] - 3 * b[i][j]\n",
    "        row.append(value)\n",
    "    c.append(row)\n",
    "\n",
    "print(c)"
   ]
  },
  {
   "cell_type": "code",
   "execution_count": null,
   "metadata": {
    "id": "e_wPFGBGzYeV"
   },
   "outputs": [],
   "source": [
    "a_np = np.array([[3, 4], [7, 8]])\n",
    "b_np = np.array([[1, 2], [5, 6]])\n",
    "c_np = 2 * a_np - 3 * b_np\n",
    "print(c_np)"
   ]
  },
  {
   "cell_type": "markdown",
   "metadata": {
    "id": "kp-niKvRzrfJ"
   },
   "source": [
    "## Creating NumPy Array"
   ]
  },
  {
   "cell_type": "code",
   "execution_count": null,
   "metadata": {
    "id": "mWy9TV0E0Jdi"
   },
   "outputs": [],
   "source": [
    "np.array([1, 2, 3])"
   ]
  },
  {
   "cell_type": "code",
   "execution_count": null,
   "metadata": {
    "id": "3r1pIUPGA1a6"
   },
   "outputs": [],
   "source": [
    "np.zeros((2, 3))"
   ]
  },
  {
   "cell_type": "code",
   "execution_count": null,
   "metadata": {
    "id": "olHP1Ro1A4Bp"
   },
   "outputs": [],
   "source": [
    "np.ones((3, 3))"
   ]
  },
  {
   "cell_type": "code",
   "execution_count": null,
   "metadata": {
    "id": "827spsRHA4WC"
   },
   "outputs": [],
   "source": [
    "np.eye(4)"
   ]
  },
  {
   "cell_type": "code",
   "execution_count": null,
   "metadata": {
    "id": "gzG3k__NA4oa"
   },
   "outputs": [],
   "source": [
    "np.random.rand(2, 2)"
   ]
  },
  {
   "cell_type": "code",
   "execution_count": null,
   "metadata": {
    "id": "apIbqWdcDMDg"
   },
   "outputs": [],
   "source": [
    "np.random.randn(2, 2)"
   ]
  },
  {
   "cell_type": "code",
   "execution_count": null,
   "metadata": {
    "id": "lILn9KrGA45D"
   },
   "outputs": [],
   "source": [
    "np.arange(0, 10, 2)"
   ]
  },
  {
   "cell_type": "code",
   "execution_count": null,
   "metadata": {
    "id": "njI7SQuBA5Iq"
   },
   "outputs": [],
   "source": [
    "np.linspace(0, 10, 5)"
   ]
  },
  {
   "cell_type": "markdown",
   "metadata": {
    "id": "p4sWV35P0iPB"
   },
   "source": [
    "## Array Properties"
   ]
  },
  {
   "cell_type": "code",
   "execution_count": null,
   "metadata": {
    "id": "hDFI38C60fDx"
   },
   "outputs": [],
   "source": [
    "a = np.random.rand(3, 4)\n",
    "\n",
    "print(a)"
   ]
  },
  {
   "cell_type": "code",
   "execution_count": null,
   "metadata": {
    "id": "9Q1lao1wOySU"
   },
   "outputs": [],
   "source": [
    "print(a.shape)\n",
    "print(a.dtype)\n",
    "print(a.size)"
   ]
  },
  {
   "cell_type": "markdown",
   "metadata": {
    "id": "QSWo7MqE0lyp"
   },
   "source": [
    "## Indexing and Slicing"
   ]
  },
  {
   "cell_type": "code",
   "execution_count": null,
   "metadata": {
    "id": "ejyQL8TR0n2A"
   },
   "outputs": [],
   "source": [
    "a = np.array([[10, 20, 30], [40, 50, 60]])"
   ]
  },
  {
   "cell_type": "code",
   "execution_count": null,
   "metadata": {
    "id": "6ZS5C_EPPiLB"
   },
   "outputs": [],
   "source": [
    "print(a)"
   ]
  },
  {
   "cell_type": "code",
   "execution_count": null,
   "metadata": {
    "id": "rnx_XPHsCr5k"
   },
   "outputs": [],
   "source": [
    "print(a[0, 2])"
   ]
  },
  {
   "cell_type": "code",
   "execution_count": null,
   "metadata": {
    "id": "1RLxFc4OCsCa"
   },
   "outputs": [],
   "source": [
    "print(a[:, 1])"
   ]
  },
  {
   "cell_type": "code",
   "execution_count": null,
   "metadata": {
    "id": "161F0IgNCsJq"
   },
   "outputs": [],
   "source": [
    "print(a[1, :])"
   ]
  },
  {
   "cell_type": "code",
   "execution_count": null,
   "metadata": {
    "id": "r7sQTc0fCsQ7"
   },
   "outputs": [],
   "source": [
    "print(a[0:2, 1:3])"
   ]
  },
  {
   "cell_type": "code",
   "execution_count": null,
   "metadata": {
    "id": "B5JvViBrCrrN"
   },
   "outputs": [],
   "source": [
    "print(a[a > 25])"
   ]
  },
  {
   "cell_type": "markdown",
   "metadata": {
    "id": "yWh8Hl-D03gO"
   },
   "source": [
    "## Operations and Broadcasting"
   ]
  },
  {
   "cell_type": "code",
   "execution_count": null,
   "metadata": {
    "id": "4_02UrCu1E8B"
   },
   "outputs": [],
   "source": [
    "a = np.array([[1, 2], [3, 4]])\n",
    "print(a)"
   ]
  },
  {
   "cell_type": "code",
   "execution_count": null,
   "metadata": {
    "id": "jsJj6d11BNMc"
   },
   "outputs": [],
   "source": [
    "print(a + 10)"
   ]
  },
  {
   "cell_type": "code",
   "execution_count": null,
   "metadata": {
    "id": "ksw6wKfKBNcW"
   },
   "outputs": [],
   "source": [
    "print(a * 2)"
   ]
  },
  {
   "cell_type": "code",
   "execution_count": null,
   "metadata": {
    "id": "pPfr85mPBN5f"
   },
   "outputs": [],
   "source": [
    "print(a @ a)"
   ]
  },
  {
   "cell_type": "code",
   "execution_count": null,
   "metadata": {
    "id": "zvPDWJxuBOGF"
   },
   "outputs": [],
   "source": [
    "print(a.T)"
   ]
  },
  {
   "cell_type": "code",
   "execution_count": null,
   "metadata": {
    "id": "A3wGIchMBOQX"
   },
   "outputs": [],
   "source": [
    "print(a.reshape(2, -1))"
   ]
  },
  {
   "cell_type": "code",
   "execution_count": null,
   "metadata": {
    "id": "ZUBrtab6BNtJ"
   },
   "outputs": [],
   "source": [
    "a = np.array([1, 2, 3])\n",
    "b = np.array([4, 5, 6])\n",
    "print(a.dot(b))"
   ]
  },
  {
   "cell_type": "markdown",
   "metadata": {
    "id": "ejKSbq3T1I2J"
   },
   "source": [
    "## Useful Functions"
   ]
  },
  {
   "cell_type": "code",
   "execution_count": null,
   "metadata": {
    "id": "e0GLAZZ51Kfb"
   },
   "outputs": [],
   "source": [
    "a = np.array([[1, 5], [2, 6]])\n",
    "print(a)"
   ]
  },
  {
   "cell_type": "code",
   "execution_count": null,
   "metadata": {
    "id": "h5OaIH1KBW6r"
   },
   "outputs": [],
   "source": [
    "print(a.min())"
   ]
  },
  {
   "cell_type": "code",
   "execution_count": null,
   "metadata": {
    "id": "4JdKaBPHBXEK"
   },
   "outputs": [],
   "source": [
    "print(np.max(a))"
   ]
  },
  {
   "cell_type": "code",
   "execution_count": null,
   "metadata": {
    "id": "inGjiteMBXNW"
   },
   "outputs": [],
   "source": [
    "print(np.mean(a))"
   ]
  },
  {
   "cell_type": "code",
   "execution_count": null,
   "metadata": {
    "id": "NJeoMBhgBXVX"
   },
   "outputs": [],
   "source": [
    "print(np.argmax(a))"
   ]
  },
  {
   "cell_type": "markdown",
   "metadata": {
    "id": "joH-VDSG16jn"
   },
   "source": [
    "## Task\n",
    "\n",
    "- Create a 3x3 matrix A of random integers between 0 and 9.\n",
    "- Transpose the matrix A and keep the result in B.\n",
    "- Replace all values of B below the mean with 0 and keep the result in C.\n",
    "- Multiply this C matrix with the original A matrix."
   ]
  },
  {
   "cell_type": "code",
   "execution_count": null,
   "metadata": {
    "id": "MrCDRrGaVbA-"
   },
   "outputs": [],
   "source": [
    "# YOUR CODE HERE"
   ]
  },
  {
   "cell_type": "markdown",
   "metadata": {
    "id": "mAkpKMbo37lR"
   },
   "source": [
    "# Pandas"
   ]
  },
  {
   "cell_type": "markdown",
   "metadata": {
    "id": "UgxZD4ud4b8p"
   },
   "source": [
    "A Pandas DataFrame is a 2D labeled data structure with columns of potentially different types — similar to an Excel sheet or SQL table."
   ]
  },
  {
   "cell_type": "markdown",
   "metadata": {
    "id": "jxJimrSm47OC"
   },
   "source": [
    "## Import Pandas"
   ]
  },
  {
   "cell_type": "code",
   "execution_count": null,
   "metadata": {
    "id": "zIPj1YMR47OC"
   },
   "outputs": [],
   "source": [
    "import pandas as pd"
   ]
  },
  {
   "cell_type": "markdown",
   "metadata": {
    "id": "4ZwRSGyd4fpv"
   },
   "source": [
    "## Creating DataFrame"
   ]
  },
  {
   "cell_type": "markdown",
   "metadata": {
    "id": "LVj8ZBo34xNg"
   },
   "source": [
    "### From Dictionary"
   ]
  },
  {
   "cell_type": "code",
   "execution_count": null,
   "metadata": {
    "id": "xzCnYHSl4rWd"
   },
   "outputs": [],
   "source": [
    "weather_data = {\n",
    " 'day': ['1/1/2017','1/2/2017','1/3/2017','1/4/2017','1/5/2017','1/6/2017'],\n",
    " 'temperature': [32,35,28,24,32,31],\n",
    " 'windspeed': [6,7,2,7,4,2],\n",
    " 'event': ['Rain', 'Sunny', 'Snow','Snow','Rain', 'Sunny']\n",
    "}\n",
    "\n",
    "df = pd.DataFrame(weather_data)\n",
    "display(df)"
   ]
  },
  {
   "cell_type": "code",
   "execution_count": null,
   "metadata": {
    "id": "cVa6itGr5FdH"
   },
   "outputs": [],
   "source": [
    "print(df.shape)"
   ]
  },
  {
   "cell_type": "markdown",
   "metadata": {
    "id": "zM3aBYh64zvP"
   },
   "source": [
    "### From List/Tuple"
   ]
  },
  {
   "cell_type": "code",
   "execution_count": null,
   "metadata": {
    "id": "1CV-MPIV43m_"
   },
   "outputs": [],
   "source": [
    "weather_data = [\n",
    " ('1/1/2017',32,6,'Rain'),\n",
    " ('1/2/2017',35,7,'Sunny'),\n",
    " ('1/3/2017',28,2,'Snow')\n",
    "]\n",
    "\n",
    "df = pd.DataFrame(data=weather_data, columns=['day','temperature','windspeed','event'])"
   ]
  },
  {
   "cell_type": "code",
   "execution_count": null,
   "metadata": {
    "id": "VHxtFhf55Y5V"
   },
   "outputs": [],
   "source": [
    "df"
   ]
  },
  {
   "cell_type": "markdown",
   "metadata": {
    "id": "rX99jS805g4Y"
   },
   "source": [
    "### From List of Dictionaries"
   ]
  },
  {
   "cell_type": "code",
   "execution_count": null,
   "metadata": {
    "id": "2B7yUaW35jLw"
   },
   "outputs": [],
   "source": [
    "weather_data = [\n",
    " {'day': '1/1/2017', 'temperature': 32, 'windspeed': 6, 'event': 'Rain'},\n",
    " {'day': '1/2/2017', 'temperature': 35, 'windspeed': 7, 'event': 'Sunny'},\n",
    " {'windspeed': 2, 'day': '1/3/2017', 'temperature': 28, 'event': 'Snow'},\n",
    "]\n",
    "\n",
    "df = pd.DataFrame(data=weather_data, columns=['day','temperature','windspeed','event'])"
   ]
  },
  {
   "cell_type": "code",
   "execution_count": null,
   "metadata": {
    "id": "KDPE5D_g54QD"
   },
   "outputs": [],
   "source": [
    "df"
   ]
  },
  {
   "cell_type": "markdown",
   "metadata": {
    "id": "A3V4TmE26iqr"
   },
   "source": [
    "### From CSV File"
   ]
  },
  {
   "cell_type": "code",
   "execution_count": null,
   "metadata": {
    "id": "ejrnEx587g1t"
   },
   "outputs": [],
   "source": [
    "df = pd.read_csv('/content/lab01/nyc_weather.csv')"
   ]
  },
  {
   "cell_type": "code",
   "execution_count": null,
   "metadata": {
    "id": "nYCq2krc7oQj"
   },
   "outputs": [],
   "source": [
    "print(df.shape)"
   ]
  },
  {
   "cell_type": "code",
   "execution_count": null,
   "metadata": {
    "id": "eKspf5Uy7lmV"
   },
   "outputs": [],
   "source": [
    "df.head(10)"
   ]
  },
  {
   "cell_type": "markdown",
   "metadata": {
    "id": "8zG5l_KP8Bb8"
   },
   "source": [
    "## Viewing Columns"
   ]
  },
  {
   "cell_type": "code",
   "execution_count": null,
   "metadata": {
    "id": "eSHt0jSU8EH-"
   },
   "outputs": [],
   "source": [
    "df[['Temperature']].head()"
   ]
  },
  {
   "cell_type": "code",
   "execution_count": null,
   "metadata": {
    "id": "sbXudKLm8KNW"
   },
   "outputs": [],
   "source": [
    "df[['EST', 'Temperature']].head()"
   ]
  },
  {
   "cell_type": "code",
   "execution_count": null,
   "metadata": {
    "id": "F3uzHknr8M4H"
   },
   "outputs": [],
   "source": [
    "df.EST"
   ]
  },
  {
   "cell_type": "code",
   "execution_count": null,
   "metadata": {
    "id": "waY-Jd478UEp"
   },
   "outputs": [],
   "source": [
    "print(df.columns)"
   ]
  },
  {
   "cell_type": "markdown",
   "metadata": {
    "id": "MzFRcW7AAVTN"
   },
   "source": [
    "## Viewing Rows"
   ]
  },
  {
   "cell_type": "code",
   "execution_count": null,
   "metadata": {
    "id": "3yNMXizfAIwX"
   },
   "outputs": [],
   "source": [
    "df[1:5]"
   ]
  },
  {
   "cell_type": "code",
   "execution_count": null,
   "metadata": {
    "id": "FthQEs2RAJVZ"
   },
   "outputs": [],
   "source": [
    "df[5:10]"
   ]
  },
  {
   "cell_type": "code",
   "execution_count": null,
   "metadata": {
    "id": "Ic01HistAMAA"
   },
   "outputs": [],
   "source": [
    "df[2:]"
   ]
  },
  {
   "cell_type": "markdown",
   "metadata": {
    "id": "dlDf-lyQAYou"
   },
   "source": [
    "## Operations on DataFrame"
   ]
  },
  {
   "cell_type": "code",
   "execution_count": null,
   "metadata": {
    "id": "8oB4N2lFAQp-"
   },
   "outputs": [],
   "source": [
    "df['Temperature'].max()"
   ]
  },
  {
   "cell_type": "code",
   "execution_count": null,
   "metadata": {
    "id": "C5Gap0GfAdG9"
   },
   "outputs": [],
   "source": [
    "df['Temperature'].min()"
   ]
  },
  {
   "cell_type": "code",
   "execution_count": null,
   "metadata": {
    "id": "2EjIICC5Agjf"
   },
   "outputs": [],
   "source": [
    "df['Temperature'].mean()"
   ]
  },
  {
   "cell_type": "code",
   "execution_count": null,
   "metadata": {
    "id": "BpmcYF1TAib6"
   },
   "outputs": [],
   "source": [
    "df[df['Temperature'] > 40]"
   ]
  },
  {
   "cell_type": "code",
   "execution_count": null,
   "metadata": {
    "id": "MQe5qqnUAp99"
   },
   "outputs": [],
   "source": [
    "df[df['Temperature'] == df['Temperature'].max()]"
   ]
  },
  {
   "cell_type": "code",
   "execution_count": null,
   "metadata": {
    "id": "_67OMXNWAsBZ"
   },
   "outputs": [],
   "source": [
    "df.describe()"
   ]
  },
  {
   "cell_type": "markdown",
   "metadata": {
    "id": "nuDF2zCbBsow"
   },
   "source": [
    "## Task\n",
    "\n",
    "From the nyc_weather dataset, Find the average WindSpeedMPH of days where the temperature is greater than or equal to 30."
   ]
  },
  {
   "cell_type": "code",
   "execution_count": null,
   "metadata": {
    "id": "VFJc2RzdBsox"
   },
   "outputs": [],
   "source": [
    "# YOUR CODE HERE"
   ]
  },
  {
   "cell_type": "markdown",
   "metadata": {
    "id": "54VqSdDf83Kj"
   },
   "source": [
    "# Matplotlib"
   ]
  },
  {
   "cell_type": "markdown",
   "metadata": {
    "id": "k77Lq5Ps85iy"
   },
   "source": [
    "Matplotlib is a versatile plotting library in Python. It allows the creation of static, animated, and interactive visualizations. The most commonly used module is pyplot."
   ]
  },
  {
   "cell_type": "markdown",
   "metadata": {
    "id": "wM1geVUF9G-a"
   },
   "source": [
    "## Import Matplotlib"
   ]
  },
  {
   "cell_type": "code",
   "execution_count": null,
   "metadata": {
    "id": "vKuH764F9N4Z"
   },
   "outputs": [],
   "source": [
    "import matplotlib.pyplot as plt"
   ]
  },
  {
   "cell_type": "markdown",
   "metadata": {
    "id": "sfSCkf469A_4"
   },
   "source": [
    "## Basic Plotting"
   ]
  },
  {
   "cell_type": "code",
   "execution_count": null,
   "metadata": {
    "id": "swgmxsfK9Coc"
   },
   "outputs": [],
   "source": [
    "x = [1, 2, 3, 4, 5]\n",
    "y = [2, 4, 6, 8, 10]\n",
    "\n",
    "plt.plot(x, y)\n",
    "plt.title(\"Line Plot Example\")\n",
    "plt.xlabel(\"X-axis\")\n",
    "plt.ylabel(\"Y-axis\")\n",
    "plt.grid(False)\n",
    "plt.show()"
   ]
  },
  {
   "cell_type": "markdown",
   "metadata": {
    "id": "yDnHBxX39Ra9"
   },
   "source": [
    "## Bar Plot"
   ]
  },
  {
   "cell_type": "code",
   "execution_count": null,
   "metadata": {
    "id": "9a9UnBEx9W2r"
   },
   "outputs": [],
   "source": [
    "categories = [\"A\", \"B\", \"C\"]\n",
    "values = [4, 7, 1]\n",
    "\n",
    "plt.bar(categories, values, color='skyblue')\n",
    "plt.title(\"Bar Plot\")\n",
    "plt.show()"
   ]
  },
  {
   "cell_type": "markdown",
   "metadata": {
    "id": "xlz_ORWn9bBi"
   },
   "source": [
    "## Histogram"
   ]
  },
  {
   "cell_type": "code",
   "execution_count": null,
   "metadata": {
    "id": "XBLFh4Fz9cYy"
   },
   "outputs": [],
   "source": [
    "data = np.random.randn(1000)\n",
    "\n",
    "plt.hist(data, bins=30, color='orange', edgecolor='black')\n",
    "plt.title(\"Histogram of Normally Distributed Data\")\n",
    "plt.show()"
   ]
  },
  {
   "cell_type": "markdown",
   "metadata": {
    "id": "HQ2Salfd9hYy"
   },
   "source": [
    "## Scatter Plot"
   ]
  },
  {
   "cell_type": "code",
   "execution_count": null,
   "metadata": {
    "id": "UHX3BACO9jXJ"
   },
   "outputs": [],
   "source": [
    "x = np.random.randn(50)\n",
    "y = np.random.randn(50)\n",
    "\n",
    "plt.scatter(x, y, color='green')\n",
    "plt.title(\"Scatter Plot\")\n",
    "plt.xlabel(\"X\")\n",
    "plt.ylabel(\"Y\")\n",
    "plt.show()"
   ]
  },
  {
   "cell_type": "markdown",
   "metadata": {
    "id": "rrYa5JQ29mD6"
   },
   "source": [
    "## Customization and Subplots"
   ]
  },
  {
   "cell_type": "code",
   "execution_count": null,
   "metadata": {
    "id": "clGph8Ka9ocQ"
   },
   "outputs": [],
   "source": [
    "x = np.linspace(0, 10, 100)\n",
    "y1 = np.sin(x)\n",
    "y2 = np.cos(x)\n",
    "\n",
    "plt.plot(x, y1, label='sin(x)')\n",
    "plt.plot(x, y2, label='cos(x)')\n",
    "plt.legend()\n",
    "plt.title(\"Sine and Cosine\")\n",
    "plt.show()"
   ]
  },
  {
   "cell_type": "code",
   "execution_count": null,
   "metadata": {
    "id": "K_OARdMp_hxM"
   },
   "outputs": [],
   "source": [
    "fig, axs = plt.subplots(1, 2, figsize=(10, 4))\n",
    "axs[0].plot(x, y1)\n",
    "axs[0].set_title(\"Sine\")\n",
    "axs[1].plot(x, y2)\n",
    "axs[1].set_title(\"Cosine\")\n",
    "plt.show()"
   ]
  },
  {
   "cell_type": "markdown",
   "metadata": {
    "id": "RBAak5Em9wu_"
   },
   "source": [
    "## Task\n",
    "\n",
    "- Create a line plot of any quadratic function.\n",
    "- Generate a histogram of 500 uniform random numbers.\n",
    "- Create a subplot with the line plot and the histogram."
   ]
  },
  {
   "cell_type": "code",
   "execution_count": null,
   "metadata": {
    "id": "vs3jHOj69wu_"
   },
   "outputs": [],
   "source": [
    "# YOUR CODE HERE"
   ]
  },
  {
   "cell_type": "markdown",
   "metadata": {
    "id": "aNRuknZz-Gil"
   },
   "source": [
    "# Seaborn"
   ]
  },
  {
   "cell_type": "markdown",
   "metadata": {
    "id": "KYuU6fEQ-IVk"
   },
   "source": [
    "Seaborn is built on top of Matplotlib and tightly integrates with Pandas. It provides a high-level interface for drawing attractive and informative statistical graphics."
   ]
  },
  {
   "cell_type": "markdown",
   "metadata": {
    "id": "JizyimKG-LAN"
   },
   "source": [
    "## Import Seaborn"
   ]
  },
  {
   "cell_type": "code",
   "execution_count": null,
   "metadata": {
    "id": "piCyI86F-NZ7"
   },
   "outputs": [],
   "source": [
    "import seaborn as sns"
   ]
  },
  {
   "cell_type": "markdown",
   "metadata": {
    "id": "jw-0GO2l-RK1"
   },
   "source": [
    "## Load Built-in Dataset"
   ]
  },
  {
   "cell_type": "code",
   "execution_count": null,
   "metadata": {
    "id": "vaq4NhUt-d0_"
   },
   "outputs": [],
   "source": [
    "tips = sns.load_dataset(\"tips\")\n",
    "tips.head()"
   ]
  },
  {
   "cell_type": "markdown",
   "metadata": {
    "id": "ZJJSl9y2-hqg"
   },
   "source": [
    "## Histogram"
   ]
  },
  {
   "cell_type": "code",
   "execution_count": null,
   "metadata": {
    "id": "AjnxkVXQ-i1Q"
   },
   "outputs": [],
   "source": [
    "sns.histplot(tips[\"total_bill\"], kde=True)\n",
    "plt.title(\"Distribution of Total Bill\")\n",
    "plt.xlabel(\"Total Bill\")\n",
    "plt.ylabel(\"Frequency\")\n",
    "plt.show()"
   ]
  },
  {
   "cell_type": "markdown",
   "metadata": {
    "id": "-y146RyB-nCP"
   },
   "source": [
    "## Scatter Plot"
   ]
  },
  {
   "cell_type": "code",
   "execution_count": null,
   "metadata": {
    "id": "aManxtBV-onU"
   },
   "outputs": [],
   "source": [
    "sns.scatterplot(data=tips, x=\"total_bill\", y=\"tip\", hue=\"sex\")\n",
    "plt.title(\"Tip vs Total Bill by Gender\")\n",
    "plt.xlabel(\"Total Bill\")\n",
    "plt.ylabel(\"Tip\")\n",
    "plt.show()"
   ]
  },
  {
   "cell_type": "markdown",
   "metadata": {
    "id": "K1weKN8D-sWd"
   },
   "source": [
    "## Correlation Heatmap"
   ]
  },
  {
   "cell_type": "code",
   "execution_count": null,
   "metadata": {
    "id": "CkVNsNZK-uAD"
   },
   "outputs": [],
   "source": [
    "iris = sns.load_dataset(\"iris\")\n",
    "\n",
    "corr = iris.corr(numeric_only=True)\n",
    "\n",
    "sns.heatmap(corr, annot=True, cmap='coolwarm')\n",
    "plt.title(\"Correlation Heatmap (Iris Dataset)\")\n",
    "plt.show()"
   ]
  },
  {
   "cell_type": "markdown",
   "metadata": {
    "id": "PB9jZ5pd-77Q"
   },
   "source": [
    "## Task\n",
    "\n",
    "Use the tips dataset to:\n",
    "- Plot a histogram of the tip column.\n",
    "- Create a scatter plot of tip vs size, colored by 'smoker'.\n",
    "\n",
    "Use the iris dataset to:\n",
    "- Create a correlation heatmap and describe any two strong correlations you find."
   ]
  },
  {
   "cell_type": "code",
   "execution_count": null,
   "metadata": {
    "id": "IuJOc7fq-77Q"
   },
   "outputs": [],
   "source": [
    "# YOUR CODE HERE"
   ]
  }
 ],
 "metadata": {
  "colab": {
   "authorship_tag": "ABX9TyPaYqeMxrAU9hRjqkz2TbmS",
   "provenance": []
  },
  "kernelspec": {
   "display_name": "Python 3",
   "name": "python3"
  },
  "language_info": {
   "name": "python"
  }
 },
 "nbformat": 4,
 "nbformat_minor": 0
}
