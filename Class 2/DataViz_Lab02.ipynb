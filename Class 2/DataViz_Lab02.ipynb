{
 "cells": [
  {
   "cell_type": "markdown",
   "id": "_QRxAjh3fU__",
   "metadata": {
    "id": "_QRxAjh3fU__"
   },
   "source": [
    "# Lab 02: Axes, Transformations & Statistics"
   ]
  },
  {
   "cell_type": "markdown",
   "id": "98a7696d",
   "metadata": {
    "id": "98a7696d"
   },
   "source": [
    "## Objectives"
   ]
  },
  {
   "cell_type": "markdown",
   "id": "48b93445",
   "metadata": {
    "id": "48b93445"
   },
   "source": [
    "**Objectives**\n",
    "\n",
    "- Compute **mean, median, mode**, and understand when each is appropriate.\n",
    "- Use **different means** (arithmetic, geometric, harmonic, contra‑harmonic) and know when to choose them.\n",
    "- Compute **variance/standard deviation** (population vs sample).  \n",
    "- Use **summary statistics in Pandas** and **normalize** data (min‑max, z‑score).\n",
    "- Apply **2D geometric transformations** (translation, scaling, rotation) via **matrix multiplication**.\n",
    "- Use **nonlinear axes** (log, square‑root) appropriately.  \n",
    "- Work with Cartesian and Polar coordinates."
   ]
  },
  {
   "cell_type": "markdown",
   "id": "HrlJvWZ7vkXS",
   "metadata": {
    "id": "HrlJvWZ7vkXS"
   },
   "source": [
    "**Tools Used**\n",
    "\n",
    "- Google Colab\n",
    "- NumPy\n",
    "- Pandas\n",
    "- Matplotlib\n",
    "- Seaborn"
   ]
  },
  {
   "cell_type": "markdown",
   "id": "3f5995bf",
   "metadata": {
    "id": "3f5995bf"
   },
   "source": [
    "## Setup"
   ]
  },
  {
   "cell_type": "code",
   "execution_count": 1,
   "id": "1579c7cd",
   "metadata": {
    "executionInfo": {
     "elapsed": 1747,
     "status": "ok",
     "timestamp": 1755486308080,
     "user": {
      "displayName": "Md. Irfanur Rahman Rafio",
      "userId": "07256489501517174222"
     },
     "user_tz": -360
    },
    "id": "1579c7cd"
   },
   "outputs": [],
   "source": [
    "import numpy as np\n",
    "import pandas as pd\n",
    "import matplotlib.pyplot as plt\n",
    "import seaborn as sns\n",
    "\n",
    "from skimage import data, transform, color, img_as_float\n",
    "plt.rcParams['figure.figsize'] = (7, 4)\n",
    "plt.rcParams['axes.grid'] = True"
   ]
  },
  {
   "cell_type": "markdown",
   "id": "517eed0a",
   "metadata": {
    "id": "517eed0a"
   },
   "source": [
    "## Datasets & Tools"
   ]
  },
  {
   "cell_type": "markdown",
   "id": "22bed312",
   "metadata": {
    "id": "22bed312"
   },
   "source": [
    "- **`iris`** (seaborn) — classic 4D numeric dataset by species.  \n",
    "- **`tips`** (seaborn) — restaurant bills/tips; great for mean/median/mode demos.  \n",
    "- **Synthetic 2D points** — to see transformation effects clearly.  \n",
    "- **Images** from `skimage.data` — e.g., `camera()` grayscale.\n",
    "\n",
    "We'll load everything below."
   ]
  },
  {
   "cell_type": "code",
   "execution_count": 2,
   "id": "11fec8cd",
   "metadata": {
    "colab": {
     "base_uri": "https://localhost:8080/"
    },
    "executionInfo": {
     "elapsed": 1839,
     "status": "ok",
     "timestamp": 1755486309923,
     "user": {
      "displayName": "Md. Irfanur Rahman Rafio",
      "userId": "07256489501517174222"
     },
     "user_tz": -360
    },
    "id": "11fec8cd",
    "outputId": "58f3ae36-93d9-429c-9ce4-cf84b6d1505b"
   },
   "outputs": [
    {
     "data": {
      "text/plain": [
       "(   sepal_length  sepal_width  petal_length  petal_width species\n",
       " 0           5.1          3.5           1.4          0.2  setosa\n",
       " 1           4.9          3.0           1.4          0.2  setosa\n",
       " 2           4.7          3.2           1.3          0.2  setosa\n",
       " 3           4.6          3.1           1.5          0.2  setosa\n",
       " 4           5.0          3.6           1.4          0.2  setosa,\n",
       "    total_bill   tip     sex smoker  day    time  size\n",
       " 0       16.99  1.01  Female     No  Sun  Dinner     2\n",
       " 1       10.34  1.66    Male     No  Sun  Dinner     3\n",
       " 2       21.01  3.50    Male     No  Sun  Dinner     3\n",
       " 3       23.68  3.31    Male     No  Sun  Dinner     2\n",
       " 4       24.59  3.61  Female     No  Sun  Dinner     4,\n",
       " (512, 512),\n",
       " (512, 512, 3))"
      ]
     },
     "execution_count": 2,
     "metadata": {},
     "output_type": "execute_result"
    }
   ],
   "source": [
    "iris = sns.load_dataset('iris')\n",
    "tips = sns.load_dataset('tips')\n",
    "\n",
    "cam = data.camera()\n",
    "astr = data.astronaut()\n",
    "\n",
    "iris.head(), tips.head(), cam.shape, astr.shape"
   ]
  },
  {
   "cell_type": "markdown",
   "id": "8712bfa5",
   "metadata": {
    "id": "8712bfa5"
   },
   "source": [
    "---"
   ]
  },
  {
   "cell_type": "markdown",
   "id": "05897707",
   "metadata": {
    "id": "05897707"
   },
   "source": [
    "## Part A — Summary Statistics & Normalization"
   ]
  },
  {
   "cell_type": "markdown",
   "id": "7084ceca",
   "metadata": {
    "id": "7084ceca"
   },
   "source": [
    "### A.1 Mean, Median, Mode\n",
    "**Definitions**  \n",
    "- Arithmetic mean: $\\bar{x} = \\frac{1}{n}\\sum_{i=1}^n x_i$  \n",
    "- Median: middle value after sorting (robust to outliers).  \n",
    "- Mode: most frequent value (well-defined for categorical; tricky for continuous).\n",
    "\n",
    "**When not to use the mean?** In **skewed** distributions or with **heavy outliers**, the median often better represents \"typical\" values."
   ]
  },
  {
   "cell_type": "code",
   "execution_count": 3,
   "id": "3427d6cf",
   "metadata": {
    "colab": {
     "base_uri": "https://localhost:8080/",
     "height": 426
    },
    "executionInfo": {
     "elapsed": 554,
     "status": "ok",
     "timestamp": 1755486617038,
     "user": {
      "displayName": "Md. Irfanur Rahman Rafio",
      "userId": "07256489501517174222"
     },
     "user_tz": -360
    },
    "id": "3427d6cf",
    "outputId": "d621e897-950b-4f31-e207-95d55acff523"
   },
   "outputs": [
    {
     "name": "stdout",
     "output_type": "stream",
     "text": [
      "Mean:   59.82\n",
      "Median: 51.56\n"
     ]
    },
    {
     "data": {
      "image/png": "[encoded data removed]",
      "text/plain": [
       "<Figure size 700x400 with 1 Axes>"
      ]
     },
     "metadata": {},
     "output_type": "display_data"
    }
   ],
   "source": [
    "np.random.seed(0)\n",
    "x = np.concatenate([np.random.normal(50, 10, size=50), np.array([100, 200, 300])])\n",
    "mean_x = x.mean()\n",
    "median_x = np.median(x)\n",
    "\n",
    "print(f\"Mean:   {mean_x:.2f}\")\n",
    "print(f\"Median: {median_x:.2f}\")\n",
    "\n",
    "plt.hist(x, bins=100)\n",
    "plt.axvline(mean_x, linestyle='--', label='Mean')\n",
    "plt.axvline(median_x, linestyle=':', label='Median')\n",
    "plt.legend()\n",
    "plt.title('Skew & outliers: mean vs median')\n",
    "plt.show()"
   ]
  },
  {
   "cell_type": "markdown",
   "id": "6187c5e7",
   "metadata": {
    "id": "6187c5e7"
   },
   "source": [
    "### A.2 Different Means & When to Use Them\n",
    "- **Arithmetic mean (AM):** ordinary average.  \n",
    "- **Geometric mean (GM):** multiplicative processes (growth rates, ratios). $\\left(\\prod x_i\\right)^{1/n}$ (requires positive values).  \n",
    "- **Harmonic mean (HM):** rates/ratios like speeds, F1-score. $\\frac{n}{\\sum 1/x_i}$ (requires positive, nonzero).  \n",
    "- **Contra-harmonic mean (CHM):** emphasizes larger values. $\\frac{\\sum x_i^2}{\\sum x_i}$ (requires positive, nonzero)."
   ]
  },
  {
   "cell_type": "code",
   "execution_count": 4,
   "id": "2ee4753d",
   "metadata": {
    "colab": {
     "base_uri": "https://localhost:8080/"
    },
    "executionInfo": {
     "elapsed": 14,
     "status": "ok",
     "timestamp": 1755487413491,
     "user": {
      "displayName": "Md. Irfanur Rahman Rafio",
      "userId": "07256489501517174222"
     },
     "user_tz": -360
    },
    "id": "2ee4753d",
    "outputId": "df619926-0fb6-4f54-bac9-d1e54dc54374"
   },
   "outputs": [
    {
     "name": "stdout",
     "output_type": "stream",
     "text": [
      "\n",
      "Dataset: Large outlier (100 among ~10s)\n",
      "Values: [ 10.  11.  12.  13. 100.]\n",
      "Arithmetic mean: 29.2\n",
      "Geometric mean : 17.656452755992337\n",
      "Harmonic mean  : 13.844068671743901\n",
      "Contra-harmonic mean (p=1): 72.15068493150685\n",
      "\n",
      "Dataset: Small outlier (1 among ~10s)\n",
      "Values: [10. 11. 12. 13.  1.]\n",
      "Arithmetic mean: 9.4\n",
      "Geometric mean : 7.029160448699608\n",
      "Harmonic mean  : 3.7005089278012595\n",
      "Contra-harmonic mean (p=1): 11.382978723404255\n"
     ]
    }
   ],
   "source": [
    "def arithmetic_mean(x): return np.mean(x)\n",
    "def geometric_mean(x): return np.exp(np.mean(np.log(x)))\n",
    "def harmonic_mean(x): return len(x) / np.sum(1/np.array(x))\n",
    "def contra_harmonic_mean(x, p=1): return np.sum(x**(p+1)) / np.sum(x**p)\n",
    "\n",
    "def show_means(vals, label):\n",
    "    print(f\"\\nDataset: {label}\")\n",
    "    print(\"Values:\", vals)\n",
    "    print(\"Arithmetic mean:\", arithmetic_mean(vals))\n",
    "    print(\"Geometric mean :\", geometric_mean(vals))\n",
    "    print(\"Harmonic mean  :\", harmonic_mean(vals))\n",
    "    print(\"Contra-harmonic mean (p=1):\", contra_harmonic_mean(vals, p=1))\n",
    "\n",
    "vals1 = np.array([10, 11, 12, 13, 100], dtype=float)\n",
    "vals2 = np.array([10, 11, 12, 13, 1], dtype=float)\n",
    "\n",
    "show_means(vals1, \"Large outlier (100 among ~10s)\")\n",
    "show_means(vals2, \"Small outlier (1 among ~10s)\")"
   ]
  },
  {
   "cell_type": "markdown",
   "id": "8aad9793",
   "metadata": {
    "id": "8aad9793"
   },
   "source": [
    "> **Guideline:**  \n",
    "> - Use **GM** for *ratios, indices, growth factors*.  \n",
    "> - Use **HM** for *averaging rates* (e.g., speed, precision/recall harmonic).  \n",
    "> - **CHM** when you want to **emphasize larger** values (less common, but useful with images/noise weighting)."
   ]
  },
  {
   "cell_type": "markdown",
   "id": "464bc2f4",
   "metadata": {
    "id": "464bc2f4"
   },
   "source": [
    "### A.3 Variance & Standard Deviation (Population vs Sample)"
   ]
  },
  {
   "cell_type": "markdown",
   "id": "d2388663",
   "metadata": {
    "id": "d2388663"
   },
   "source": [
    "- Population variance: $\\sigma^2 = \\frac{1}{N}\\sum (x_i-\\mu)^2$  \n",
    "- Sample variance (unbiased): $s^2 = \\frac{1}{n-1}\\sum (x_i-\\bar{x})^2$  \n",
    "\n",
    "In pandas/numpy, use `ddof=0` for population, `ddof=1` for sample."
   ]
  },
  {
   "cell_type": "code",
   "execution_count": null,
   "id": "ffc89738",
   "metadata": {
    "id": "ffc89738"
   },
   "outputs": [],
   "source": [
    "s = tips['total_bill']\n",
    "pop_var = np.var(s, ddof=0)\n",
    "samp_var = np.var(s, ddof=1)\n",
    "pop_std = np.std(s, ddof=0)\n",
    "samp_std = np.std(s, ddof=1)\n",
    "print(f\"Population var/std: {pop_var:.3f} / {pop_std:.3f}\")\n",
    "print(f\"Sample     var/std: {samp_var:.3f} / {samp_std:.3f}\")"
   ]
  },
  {
   "cell_type": "markdown",
   "id": "5b5ca17f",
   "metadata": {
    "id": "5b5ca17f"
   },
   "source": [
    "### A.4 Summary Statistics in Pandas"
   ]
  },
  {
   "cell_type": "code",
   "execution_count": null,
   "id": "d6557e0b",
   "metadata": {
    "id": "d6557e0b"
   },
   "outputs": [],
   "source": [
    "summary = tips.groupby('day')['total_bill'].agg(['count','mean','median','std','min','max'])\n",
    "display(summary)"
   ]
  },
  {
   "cell_type": "code",
   "execution_count": null,
   "id": "dcVcfuYVCyD1",
   "metadata": {
    "id": "dcVcfuYVCyD1"
   },
   "outputs": [],
   "source": [
    "display(tips['total_bill'].describe())"
   ]
  },
  {
   "cell_type": "markdown",
   "id": "33e7be93",
   "metadata": {
    "id": "33e7be93"
   },
   "source": [
    "### A.5 Normalization: Min‑Max and Z‑score"
   ]
  },
  {
   "cell_type": "code",
   "execution_count": null,
   "id": "b4028df3",
   "metadata": {
    "id": "b4028df3"
   },
   "outputs": [],
   "source": [
    "def minmax_norm(x):\n",
    "    x = pd.Series(x, dtype=float)\n",
    "    return (x - x.min()) / (x.max() - x.min())\n",
    "\n",
    "def zscore_norm(x, ddof=0):\n",
    "    x = pd.Series(x, dtype=float)\n",
    "    return (x - x.mean()) / x.std(ddof=ddof)\n",
    "\n",
    "iris_norm = iris.copy()\n",
    "iris_norm['sepal_length_mm'] = minmax_norm(iris['sepal_length'])\n",
    "iris_norm['sepal_length_zz'] = zscore_norm(iris['sepal_length'], ddof=0)\n",
    "\n",
    "iris_norm[['sepal_length','sepal_length_mm','sepal_length_zz']].head()"
   ]
  },
  {
   "cell_type": "markdown",
   "id": "cc34d3e6",
   "metadata": {
    "id": "cc34d3e6"
   },
   "source": [
    "#### ✅ Your Turn — Stats & Normalization"
   ]
  },
  {
   "cell_type": "markdown",
   "id": "05fce9bc",
   "metadata": {
    "id": "05fce9bc"
   },
   "source": [
    "1) For each `species` in **iris**, compute **AM, GM, HM, CHM, median, std (sample)** for `petal_length`. Present as a tidy table.  \n",
    "2) Show how **min‑max** vs **z‑score** scaling change the shape of `sepal_width` distribution (plot both)."
   ]
  },
  {
   "cell_type": "code",
   "execution_count": null,
   "id": "bb078c28",
   "metadata": {
    "id": "bb078c28"
   },
   "outputs": [],
   "source": [
    "# TODO: Your code for A.Your Turn"
   ]
  },
  {
   "cell_type": "markdown",
   "id": "0a2078e5",
   "metadata": {
    "id": "0a2078e5"
   },
   "source": [
    "---"
   ]
  },
  {
   "cell_type": "markdown",
   "id": "07d45ace",
   "metadata": {
    "id": "07d45ace"
   },
   "source": [
    "## Part B — 2D Geometric Transformations"
   ]
  },
  {
   "cell_type": "markdown",
   "id": "1225f994",
   "metadata": {
    "id": "1225f994"
   },
   "source": [
    "We will use **homogeneous coordinates** to express transformations as matrices.  \n",
    "\n",
    "- **Translation** by $(t_x, t_y)$  \n",
    "$$\n",
    "T=\\begin{bmatrix}1&0&t_x\\\\0&1&t_y\\\\0&0&1\\end{bmatrix}\n",
    "$$\n",
    "\n",
    "- **Scaling** by $(s_x, s_y)$  \n",
    "$$\n",
    "S=\\begin{bmatrix}s_x&0&0\\\\0&s_y&0\\\\0&0&1\\end{bmatrix}\n",
    "$$\n",
    "\n",
    "- **Rotation** by $\\theta$ (radians)  \n",
    "$$\n",
    "R=\\begin{bmatrix}\\cos\\theta&-\\sin\\theta&0\\\\\\sin\\theta&\\cos\\theta&0\\\\0&0&1\\end{bmatrix}\n",
    "$$"
   ]
  },
  {
   "cell_type": "code",
   "execution_count": null,
   "id": "5a33be49",
   "metadata": {
    "id": "5a33be49"
   },
   "outputs": [],
   "source": [
    "def to_homogeneous(pts):\n",
    "    return np.hstack([pts, np.ones((pts.shape[0], 1))])\n",
    "\n",
    "def from_homogeneous(pts_h):\n",
    "    return pts_h[:, :2] / pts_h[:, 2, None]\n",
    "\n",
    "def T_translate(tx, ty):\n",
    "    return np.array([[1, 0, tx],\n",
    "                     [0, 1, ty],\n",
    "                     [0, 0, 1]], float)\n",
    "\n",
    "def T_scale(sx, sy):\n",
    "    return np.array([[sx, 0, 0],\n",
    "                     [0, sy, 0],\n",
    "                     [0, 0, 1]], float)\n",
    "\n",
    "def T_rotate(theta_deg):\n",
    "    th = np.deg2rad(theta_deg)\n",
    "    return np.array([[np.cos(th), -np.sin(th), 0],\n",
    "                     [np.sin(th),  np.cos(th), 0],\n",
    "                     [0, 0, 1]], float)\n",
    "\n",
    "def plot_shape(pts, title):\n",
    "    plt.plot(pts[:, 0], pts[:, 1], marker='o')\n",
    "    plt.axis('equal')\n",
    "    plt.title(title)\n",
    "    plt.show()\n",
    "\n",
    "rect = np.array([[0, 0], [2, 0], [2, 1], [0, 1], [0, 0]], float)\n",
    "triangle = np.array([[0.5, 0.2], [1.5, 0.2], [1.0, 0.8], [0.5, 0.2]], float)\n",
    "\n",
    "plot_shape(rect, 'Original rectangle')\n",
    "plot_shape(triangle, 'Original triangle')\n",
    "\n",
    "M = T_translate(1, 0.5) @ T_scale(1.2, 0.8) @ T_rotate(30)\n",
    "rect_t = from_homogeneous((M @ to_homogeneous(rect).T).T)\n",
    "triangle_t = from_homogeneous((M @ to_homogeneous(triangle).T).T)\n",
    "\n",
    "plot_shape(rect_t, 'Transformed rectangle')\n",
    "plot_shape(triangle_t, 'Transformed triangle')"
   ]
  },
  {
   "cell_type": "markdown",
   "id": "24e166e8",
   "metadata": {
    "id": "24e166e8"
   },
   "source": [
    "### B.1 Transformations on Images"
   ]
  },
  {
   "cell_type": "markdown",
   "id": "bf46601d",
   "metadata": {
    "id": "bf46601d"
   },
   "source": [
    "Use `skimage.transform` to rotate, scale, and translate images."
   ]
  },
  {
   "cell_type": "code",
   "execution_count": null,
   "id": "02b9c075",
   "metadata": {
    "id": "02b9c075"
   },
   "outputs": [],
   "source": [
    "img = img_as_float(cam)\n",
    "plt.imshow(img, cmap='gray')\n",
    "plt.title('Original (camera)')\n",
    "plt.show()\n",
    "\n",
    "# Rotate\n",
    "rot = transform.rotate(img, angle=20, resize=True)\n",
    "plt.imshow(rot, cmap='gray')\n",
    "plt.title('Rotate 20°')\n",
    "plt.show()\n",
    "\n",
    "# Scale + translate via Affine\n",
    "M = transform.AffineTransform(scale=(0.8, 1.2), translation=(30, -15))\n",
    "warp = transform.warp(img, M.inverse)\n",
    "plt.imshow(warp, cmap='gray')\n",
    "plt.title('Scale 0.8×1.2 + Translate')\n",
    "plt.show()"
   ]
  },
  {
   "cell_type": "markdown",
   "id": "39facc5c",
   "metadata": {
    "id": "39facc5c"
   },
   "source": [
    "#### ✅ Your Turn — Transformations"
   ]
  },
  {
   "cell_type": "markdown",
   "id": "19c19a06",
   "metadata": {
    "id": "19c19a06"
   },
   "source": [
    "1) Create a **single matrix** that rotates by 45°, then scales by (0.5, 1.5), then translates by (2, −1). Apply it to a **circle** of sampled points.  \n",
    "2) On the **`iris`** scatter (sepal_length vs sepal_width), apply a 30° rotation in data space and plot before/after. What changed?  \n",
    "3) Apply a **shear** transform to the `camera` image (hint: `AffineTransform(shear=...)`) and discuss geometric distortion."
   ]
  },
  {
   "cell_type": "code",
   "execution_count": null,
   "id": "b32f293f",
   "metadata": {
    "id": "b32f293f"
   },
   "outputs": [],
   "source": [
    "# TODO: Your code for B.Your Turn"
   ]
  },
  {
   "cell_type": "markdown",
   "id": "e9fb8bdd",
   "metadata": {
    "id": "e9fb8bdd"
   },
   "source": [
    "---"
   ]
  },
  {
   "cell_type": "markdown",
   "id": "a72697e8",
   "metadata": {
    "id": "a72697e8"
   },
   "source": [
    "## Part C — Nonlinear Axes (Log & Sqrt)"
   ]
  },
  {
   "cell_type": "markdown",
   "id": "a01f085a",
   "metadata": {
    "id": "a01f085a"
   },
   "source": [
    "- **Logarithmic scale** reveals multiplicative relationships and compresses large ranges. (Requires **positive** values.)  \n",
    "- **Square‑root scale** is ideal when mapping **area/size** so perceived area matches data."
   ]
  },
  {
   "cell_type": "code",
   "execution_count": null,
   "id": "be9b84ba",
   "metadata": {
    "id": "be9b84ba"
   },
   "outputs": [],
   "source": [
    "np.random.seed(0)\n",
    "x = np.arange(1, 21)\n",
    "y = np.random.normal(loc=10, scale=3, size=20)\n",
    "y[::5] *= 200\n",
    "\n",
    "# Linear scale\n",
    "plt.plot(x, y, marker='o')\n",
    "plt.title('Linear axes (outliers dominate)')\n",
    "plt.xlabel('x'); plt.ylabel('y')\n",
    "plt.show()\n",
    "\n",
    "# Log scale\n",
    "plt.plot(x, y, marker='o')\n",
    "plt.yscale('log')\n",
    "plt.title('Log y-axis (outliers compressed)')\n",
    "plt.xlabel('x'); plt.ylabel('y (log scale)')\n",
    "plt.show()\n",
    "\n",
    "# Square-root scale\n",
    "plt.plot(x, np.sqrt(y), marker='o')\n",
    "y_ticks = [n**2 for n in range(0, 50, 5)]\n",
    "plt.yticks([np.sqrt(val) for val in y_ticks], y_ticks)\n",
    "plt.title('Square-root y-axis')\n",
    "plt.xlabel('x'); plt.ylabel('y')\n",
    "plt.show()"
   ]
  },
  {
   "cell_type": "markdown",
   "id": "bbbd5319",
   "metadata": {
    "id": "bbbd5319"
   },
   "source": [
    "#### ✅ Your Turn — Nonlinear Axes"
   ]
  },
  {
   "cell_type": "markdown",
   "id": "e34fef16",
   "metadata": {
    "id": "e34fef16"
   },
   "source": [
    "Plot `total_bill` distribution (histogram) on **linear vs log x-axis**. Which better reveals tails?"
   ]
  },
  {
   "cell_type": "code",
   "execution_count": null,
   "id": "634c0e00",
   "metadata": {
    "id": "634c0e00"
   },
   "outputs": [],
   "source": [
    "# TODO: Your code for C.Your Turn"
   ]
  },
  {
   "cell_type": "markdown",
   "id": "56aee47e",
   "metadata": {
    "id": "56aee47e"
   },
   "source": [
    "---"
   ]
  },
  {
   "cell_type": "markdown",
   "id": "f003de82",
   "metadata": {
    "id": "f003de82"
   },
   "source": [
    "## Part D — Cartesian vs Polar Coordinates"
   ]
  },
  {
   "cell_type": "code",
   "execution_count": null,
   "id": "de13e803",
   "metadata": {
    "id": "de13e803"
   },
   "outputs": [],
   "source": [
    "theta = np.linspace(0, 2*np.pi, 400)\n",
    "r = 1 + 0.3*np.sin(5*theta)\n",
    "\n",
    "# Cartesian view\n",
    "plt.plot(theta, r)\n",
    "plt.title('Curve in Cartesian (θ vs r)')\n",
    "plt.xlabel('θ'); plt.ylabel('r')\n",
    "plt.show()\n",
    "\n",
    "# Polar view\n",
    "ax = plt.subplot(111, projection='polar')\n",
    "ax.plot(theta, r)\n",
    "ax.set_title('Curve in Polar (r(θ))')\n",
    "plt.show()"
   ]
  },
  {
   "cell_type": "markdown",
   "id": "26b45d7c",
   "metadata": {
    "id": "26b45d7c"
   },
   "source": [
    "#### ✅ Your Turn — Polar"
   ]
  },
  {
   "cell_type": "markdown",
   "id": "8d95fad2",
   "metadata": {
    "id": "8d95fad2"
   },
   "source": [
    "Convert a **circle** in Cartesian into polar coordinates and verify $r$ is constant."
   ]
  },
  {
   "cell_type": "code",
   "execution_count": null,
   "id": "e151bfde",
   "metadata": {
    "id": "e151bfde"
   },
   "outputs": [],
   "source": [
    "# TODO: Your code for D.Your Turn"
   ]
  },
  {
   "cell_type": "markdown",
   "id": "72ee9d7a",
   "metadata": {
    "id": "72ee9d7a"
   },
   "source": [
    "---"
   ]
  },
  {
   "cell_type": "markdown",
   "id": "pjdaVVxS-jAE",
   "metadata": {
    "id": "pjdaVVxS-jAE"
   },
   "source": [
    "Draw the plot for the following temperature data in cartesian and polar coordinates."
   ]
  },
  {
   "cell_type": "code",
   "execution_count": null,
   "id": "XHNGq8ti-ice",
   "metadata": {
    "id": "XHNGq8ti-ice"
   },
   "outputs": [],
   "source": [
    "months = np.arange(1, 13)\n",
    "month_labels = ['Jan','Feb','Mar','Apr','May','Jun','Jul','Aug','Sep','Oct','Nov','Dec']\n",
    "\n",
    "A = np.array([25.4, 22.3, 20.1, 19.3, 20.6, 22.7, 25.6, 28.7, 31.1, 32.2, 30.8, 28.7])\n",
    "B = np.array([27.9, 26.6, 24.9, 22.9, 21.8, 21.1, 22.0, 23.4, 25.1, 26.8, 27.9, 28.5])\n",
    "C = np.array([16.7, 11.3, 4.5, -2.0, -6.7, -8.3, -6.7, -2.2, 4.5, 11.4, 16.8, 18.7])\n",
    "D = np.array([10.7, 16.5, 24.7, 33.2, 39.2, 41.4, 39.6, 33.4, 25.1, 16.5, 10.8, 8.9])\n",
    "E = np.array([24.5, 23.1, 21.6, 20.4, 19.8, 19.6, 20.0, 20.9, 22.1, 23.4, 24.6, 24.9])\n",
    "F = np.array([27.9, 27.9, 27.8, 27.2, 25.8, 24.5, 23.8, 22.7, 22.0, 22.2, 22.5, 23.4])"
   ]
  }
 ],
 "metadata": {
  "colab": {
   "provenance": [
    {
     "file_id": "1uc633Yt2qpXaRd0-leoR7YZvrhY_UhzI",
     "timestamp": 1755485346741
    }
   ]
  },
  "kernelspec": {
   "display_name": "Python 3",
   "name": "python3"
  },
  "language_info": {
   "name": "python"
  }
 },
 "nbformat": 4,
 "nbformat_minor": 5
}
